{
 "cells": [
  {
   "cell_type": "markdown",
   "id": "ce5bc3e0",
   "metadata": {},
   "source": [
    "### 1.first_last6"
   ]
  },
  {
   "cell_type": "markdown",
   "id": "f38d82b9",
   "metadata": {},
   "source": [
    "Given an array of ints, return True if 6 appears as either the first or last element in the array. The array will be length 1 or more.\n",
    "\n",
    "\n",
    "first_last6([1, 2, 6]) → True\n",
    "first_last6([6, 1, 2, 3]) → True\n",
    "first_last6([13, 6, 1, 2, 3]) → False"
   ]
  },
  {
   "cell_type": "code",
   "execution_count": 2,
   "id": "5d6de061",
   "metadata": {},
   "outputs": [],
   "source": [
    "def first_last6(ls):\n",
    "    return ls[0]==6 or ls[-1]==6"
   ]
  },
  {
   "cell_type": "code",
   "execution_count": 3,
   "id": "5fcf6e1a",
   "metadata": {},
   "outputs": [
    {
     "data": {
      "text/plain": [
       "True"
      ]
     },
     "execution_count": 3,
     "metadata": {},
     "output_type": "execute_result"
    }
   ],
   "source": [
    "first_last6([1, 2, 6])"
   ]
  },
  {
   "cell_type": "code",
   "execution_count": 4,
   "id": "ec6ec4e1",
   "metadata": {},
   "outputs": [
    {
     "data": {
      "text/plain": [
       "True"
      ]
     },
     "execution_count": 4,
     "metadata": {},
     "output_type": "execute_result"
    }
   ],
   "source": [
    "first_last6([6, 1, 2, 3])"
   ]
  },
  {
   "cell_type": "code",
   "execution_count": 5,
   "id": "80b9587c",
   "metadata": {},
   "outputs": [
    {
     "data": {
      "text/plain": [
       "False"
      ]
     },
     "execution_count": 5,
     "metadata": {},
     "output_type": "execute_result"
    }
   ],
   "source": [
    "first_last6([13, 6, 1, 2, 3])"
   ]
  },
  {
   "cell_type": "markdown",
   "id": "1fbc1ce6",
   "metadata": {},
   "source": [
    "### 2.same_first_last"
   ]
  },
  {
   "cell_type": "markdown",
   "id": "49c1c57d",
   "metadata": {},
   "source": [
    "Given an array of ints, return True if the array is length 1 or more, and the first element and the last element are equal.\n",
    "\n",
    "\n",
    "same_first_last([1, 2, 3]) → False\n",
    "same_first_last([1, 2, 3, 1]) → True\n",
    "same_first_last([1, 2, 1]) → True"
   ]
  },
  {
   "cell_type": "code",
   "execution_count": 7,
   "id": "c4169856",
   "metadata": {},
   "outputs": [],
   "source": [
    "def same_first_last(ls):\n",
    "    return ls[0]==ls[-1]"
   ]
  },
  {
   "cell_type": "code",
   "execution_count": 8,
   "id": "335a354a",
   "metadata": {},
   "outputs": [
    {
     "data": {
      "text/plain": [
       "False"
      ]
     },
     "execution_count": 8,
     "metadata": {},
     "output_type": "execute_result"
    }
   ],
   "source": [
    "same_first_last([1, 2, 3])"
   ]
  },
  {
   "cell_type": "code",
   "execution_count": 9,
   "id": "3bab6750",
   "metadata": {},
   "outputs": [
    {
     "data": {
      "text/plain": [
       "True"
      ]
     },
     "execution_count": 9,
     "metadata": {},
     "output_type": "execute_result"
    }
   ],
   "source": [
    "same_first_last([1, 2, 3, 1])"
   ]
  },
  {
   "cell_type": "code",
   "execution_count": 10,
   "id": "2e1f8a73",
   "metadata": {},
   "outputs": [
    {
     "data": {
      "text/plain": [
       "True"
      ]
     },
     "execution_count": 10,
     "metadata": {},
     "output_type": "execute_result"
    }
   ],
   "source": [
    "same_first_last([4, 2, 4])"
   ]
  },
  {
   "cell_type": "markdown",
   "id": "3ffd207b",
   "metadata": {},
   "source": [
    "### 3.make_pi"
   ]
  },
  {
   "cell_type": "markdown",
   "id": "4bce6ec9",
   "metadata": {},
   "source": [
    "Return an int array length 3 containing the first 3 digits of pi, {3, 1, 4}.\n",
    "\n",
    "\n",
    "make_pi() → [3, 1, 4]"
   ]
  },
  {
   "cell_type": "code",
   "execution_count": 15,
   "id": "97bdd0ed",
   "metadata": {},
   "outputs": [],
   "source": [
    "def make_pi():\n",
    "    return [3,1,4]"
   ]
  },
  {
   "cell_type": "code",
   "execution_count": 16,
   "id": "09303916",
   "metadata": {},
   "outputs": [
    {
     "data": {
      "text/plain": [
       "[3, 1, 4]"
      ]
     },
     "execution_count": 16,
     "metadata": {},
     "output_type": "execute_result"
    }
   ],
   "source": [
    "make_pi()"
   ]
  },
  {
   "cell_type": "markdown",
   "id": "0420ba30",
   "metadata": {},
   "source": [
    "### 4.common_end"
   ]
  },
  {
   "cell_type": "markdown",
   "id": "6e09ef84",
   "metadata": {},
   "source": [
    "Given 2 arrays of ints, a and b, return True if they have the same first element or they have the same last element. Both arrays will be length 1 or more.\n",
    "\n",
    "\n",
    "common_end([1, 2, 3], [7, 3]) → True\n",
    "common_end([1, 2, 3], [7, 3, 2]) → False\n",
    "common_end([1, 2, 3], [1, 3]) → True"
   ]
  },
  {
   "cell_type": "code",
   "execution_count": 20,
   "id": "9f4ddeef",
   "metadata": {},
   "outputs": [],
   "source": [
    "def common_end(ar1,ar2):\n",
    "    return ar1[0]==ar2[0] or ar1[-1]==ar2[-1]"
   ]
  },
  {
   "cell_type": "code",
   "execution_count": 21,
   "id": "c4f7ed89",
   "metadata": {},
   "outputs": [
    {
     "data": {
      "text/plain": [
       "True"
      ]
     },
     "execution_count": 21,
     "metadata": {},
     "output_type": "execute_result"
    }
   ],
   "source": [
    "common_end([1, 2, 3], [7, 3])"
   ]
  },
  {
   "cell_type": "code",
   "execution_count": 22,
   "id": "da6bbae6",
   "metadata": {},
   "outputs": [
    {
     "data": {
      "text/plain": [
       "False"
      ]
     },
     "execution_count": 22,
     "metadata": {},
     "output_type": "execute_result"
    }
   ],
   "source": [
    "common_end([1, 2, 3], [7, 3, 2])"
   ]
  },
  {
   "cell_type": "code",
   "execution_count": 23,
   "id": "f21dd63e",
   "metadata": {},
   "outputs": [
    {
     "data": {
      "text/plain": [
       "True"
      ]
     },
     "execution_count": 23,
     "metadata": {},
     "output_type": "execute_result"
    }
   ],
   "source": [
    "common_end([1, 2, 3], [1, 3])"
   ]
  },
  {
   "cell_type": "markdown",
   "id": "058b3679",
   "metadata": {},
   "source": [
    "### 5.sum3"
   ]
  },
  {
   "cell_type": "markdown",
   "id": "d02892d0",
   "metadata": {},
   "source": [
    "Given an array of ints length 3, return the sum of all the elements.\n",
    "\n",
    "\n",
    "sum3([1, 2, 3]) → 6\n",
    "sum3([5, 11, 2]) → 18\n",
    "sum3([7, 0, 0]) → 7"
   ]
  },
  {
   "cell_type": "code",
   "execution_count": 31,
   "id": "5590d61b",
   "metadata": {},
   "outputs": [],
   "source": [
    "def sum3(ls):\n",
    "    sum=0\n",
    "    for i in range(len(ls)):\n",
    "        sum=sum+ls[i]\n",
    "    return sum"
   ]
  },
  {
   "cell_type": "code",
   "execution_count": 32,
   "id": "cc2ca78f",
   "metadata": {},
   "outputs": [
    {
     "data": {
      "text/plain": [
       "6"
      ]
     },
     "execution_count": 32,
     "metadata": {},
     "output_type": "execute_result"
    }
   ],
   "source": [
    "sum3([1, 2, 3])"
   ]
  },
  {
   "cell_type": "code",
   "execution_count": 33,
   "id": "3751ff35",
   "metadata": {},
   "outputs": [
    {
     "data": {
      "text/plain": [
       "18"
      ]
     },
     "execution_count": 33,
     "metadata": {},
     "output_type": "execute_result"
    }
   ],
   "source": [
    "sum3([5, 11, 2])"
   ]
  },
  {
   "cell_type": "code",
   "execution_count": 34,
   "id": "2648f0e5",
   "metadata": {},
   "outputs": [
    {
     "data": {
      "text/plain": [
       "7"
      ]
     },
     "execution_count": 34,
     "metadata": {},
     "output_type": "execute_result"
    }
   ],
   "source": [
    "sum3([7, 0, 0])"
   ]
  },
  {
   "cell_type": "markdown",
   "id": "695f7fd5",
   "metadata": {},
   "source": [
    "### 6.rotate_left3"
   ]
  },
  {
   "cell_type": "markdown",
   "id": "7f7a469b",
   "metadata": {},
   "source": [
    "Given an array of ints length 3, return an array with the elements \"rotated left\" so {1, 2, 3} yields {2, 3, 1}.\n",
    "\n",
    "\n",
    "rotate_left3([1, 2, 3]) → [2, 3, 1]\n",
    "rotate_left3([5, 11, 9]) → [11, 9, 5]\n",
    "rotate_left3([7, 0, 0]) → [0, 0, 7]"
   ]
  },
  {
   "cell_type": "code",
   "execution_count": 37,
   "id": "e1f79292",
   "metadata": {},
   "outputs": [],
   "source": [
    "def rotate_left3(ls):\n",
    "    return ls[1:]+ls[:1]"
   ]
  },
  {
   "cell_type": "code",
   "execution_count": 38,
   "id": "adbc1993",
   "metadata": {},
   "outputs": [
    {
     "data": {
      "text/plain": [
       "[2, 3, 1]"
      ]
     },
     "execution_count": 38,
     "metadata": {},
     "output_type": "execute_result"
    }
   ],
   "source": [
    "rotate_left3([1, 2, 3])"
   ]
  },
  {
   "cell_type": "code",
   "execution_count": 39,
   "id": "e8bc616d",
   "metadata": {},
   "outputs": [
    {
     "data": {
      "text/plain": [
       "[11, 9, 5]"
      ]
     },
     "execution_count": 39,
     "metadata": {},
     "output_type": "execute_result"
    }
   ],
   "source": [
    "rotate_left3([5, 11, 9])"
   ]
  },
  {
   "cell_type": "code",
   "execution_count": 40,
   "id": "688ebb88",
   "metadata": {},
   "outputs": [
    {
     "data": {
      "text/plain": [
       "[0, 0, 7]"
      ]
     },
     "execution_count": 40,
     "metadata": {},
     "output_type": "execute_result"
    }
   ],
   "source": [
    "rotate_left3([7, 0, 0])"
   ]
  },
  {
   "cell_type": "markdown",
   "id": "547588f1",
   "metadata": {},
   "source": [
    "### 7.reverse3"
   ]
  },
  {
   "cell_type": "markdown",
   "id": "0103b966",
   "metadata": {},
   "source": [
    "Given an array of ints length 3, return a new array with the elements in reverse order, so {1, 2, 3} becomes {3, 2, 1}.\n",
    "\n",
    "\n",
    "reverse3([1, 2, 3]) → [3, 2, 1]\n",
    "reverse3([5, 11, 9]) → [9, 11, 5]\n",
    "reverse3([7, 0, 0]) → [0, 0, 7]"
   ]
  },
  {
   "cell_type": "code",
   "execution_count": 43,
   "id": "19517629",
   "metadata": {},
   "outputs": [],
   "source": [
    "def reverse3(ls):\n",
    "    return ls[::-1]"
   ]
  },
  {
   "cell_type": "code",
   "execution_count": 44,
   "id": "afe9e66f",
   "metadata": {},
   "outputs": [
    {
     "data": {
      "text/plain": [
       "[3, 2, 1]"
      ]
     },
     "execution_count": 44,
     "metadata": {},
     "output_type": "execute_result"
    }
   ],
   "source": [
    "reverse3([1, 2, 3])"
   ]
  },
  {
   "cell_type": "code",
   "execution_count": 45,
   "id": "d6b0d2de",
   "metadata": {},
   "outputs": [
    {
     "data": {
      "text/plain": [
       "[9, 11, 5]"
      ]
     },
     "execution_count": 45,
     "metadata": {},
     "output_type": "execute_result"
    }
   ],
   "source": [
    "reverse3([5, 11, 9])"
   ]
  },
  {
   "cell_type": "code",
   "execution_count": 46,
   "id": "535cfb23",
   "metadata": {},
   "outputs": [
    {
     "data": {
      "text/plain": [
       "[0, 0, 7]"
      ]
     },
     "execution_count": 46,
     "metadata": {},
     "output_type": "execute_result"
    }
   ],
   "source": [
    "reverse3([7, 0, 0]) "
   ]
  },
  {
   "cell_type": "markdown",
   "id": "5ec43006",
   "metadata": {},
   "source": [
    "### 8.max_end3"
   ]
  },
  {
   "cell_type": "markdown",
   "id": "c3366d80",
   "metadata": {},
   "source": [
    "Given an array of ints length 3, figure out which is larger, the first or last element in the array, and set all the other elements to be that value. Return the changed array.\n",
    "\n",
    "\n",
    "max_end3([1, 2, 3]) → [3, 3, 3]\n",
    "max_end3([11, 5, 9]) → [11, 11, 11]\n",
    "max_end3([2, 11, 3]) → [3, 3, 3]"
   ]
  },
  {
   "cell_type": "code",
   "execution_count": 1,
   "id": "1f7da5b7",
   "metadata": {},
   "outputs": [],
   "source": [
    "def max_end3(ls):\n",
    "    m=max(ls[0],ls[-1])\n",
    "    l=[]\n",
    "    for i in range(3):\n",
    "        l.append(m)\n",
    "    return l"
   ]
  },
  {
   "cell_type": "code",
   "execution_count": 2,
   "id": "9a4c61ba",
   "metadata": {},
   "outputs": [
    {
     "data": {
      "text/plain": [
       "[3, 3, 3]"
      ]
     },
     "execution_count": 2,
     "metadata": {},
     "output_type": "execute_result"
    }
   ],
   "source": [
    "max_end3([1, 2, 3])"
   ]
  },
  {
   "cell_type": "code",
   "execution_count": 3,
   "id": "314090f2",
   "metadata": {},
   "outputs": [
    {
     "data": {
      "text/plain": [
       "[11, 11, 11]"
      ]
     },
     "execution_count": 3,
     "metadata": {},
     "output_type": "execute_result"
    }
   ],
   "source": [
    "max_end3([11, 5, 9])"
   ]
  },
  {
   "cell_type": "code",
   "execution_count": 4,
   "id": "bd005373",
   "metadata": {},
   "outputs": [
    {
     "data": {
      "text/plain": [
       "[3, 3, 3]"
      ]
     },
     "execution_count": 4,
     "metadata": {},
     "output_type": "execute_result"
    }
   ],
   "source": [
    "max_end3([2, 11, 3])"
   ]
  },
  {
   "cell_type": "markdown",
   "id": "8135c0c9",
   "metadata": {},
   "source": [
    "### 9.sum2"
   ]
  },
  {
   "cell_type": "markdown",
   "id": "70a614ab",
   "metadata": {},
   "source": [
    "Given an array of ints, return the sum of the first 2 elements in the array. If the array length is less than 2, just sum up the elements that exist, returning 0 if the array is length 0.\n",
    "\n",
    "\n",
    "sum2([1, 2, 3]) → 3\n",
    "sum2([1, 1]) → 2\n",
    "sum2([1, 1, 1, 1]) → 2"
   ]
  },
  {
   "cell_type": "code",
   "execution_count": 95,
   "id": "6a797431",
   "metadata": {},
   "outputs": [],
   "source": [
    "def sum2(ls):\n",
    "    if len(ls)>=2:\n",
    "        return ls[0]+ls[1]\n",
    "    elif len(ls)==0:\n",
    "        return 0\n",
    "    else:\n",
    "        return 0+ls[0]"
   ]
  },
  {
   "cell_type": "code",
   "execution_count": 96,
   "id": "2464d66b",
   "metadata": {},
   "outputs": [
    {
     "data": {
      "text/plain": [
       "3"
      ]
     },
     "execution_count": 96,
     "metadata": {},
     "output_type": "execute_result"
    }
   ],
   "source": [
    "sum2([1, 2, 3])"
   ]
  },
  {
   "cell_type": "code",
   "execution_count": 97,
   "id": "9e217565",
   "metadata": {},
   "outputs": [
    {
     "data": {
      "text/plain": [
       "2"
      ]
     },
     "execution_count": 97,
     "metadata": {},
     "output_type": "execute_result"
    }
   ],
   "source": [
    "sum2([1, 1])"
   ]
  },
  {
   "cell_type": "code",
   "execution_count": 98,
   "id": "da315cf7",
   "metadata": {},
   "outputs": [
    {
     "data": {
      "text/plain": [
       "2"
      ]
     },
     "execution_count": 98,
     "metadata": {},
     "output_type": "execute_result"
    }
   ],
   "source": [
    "sum2([1, 1, 1, 1])"
   ]
  },
  {
   "cell_type": "code",
   "execution_count": 99,
   "id": "e9ef5e14",
   "metadata": {},
   "outputs": [
    {
     "data": {
      "text/plain": [
       "1"
      ]
     },
     "execution_count": 99,
     "metadata": {},
     "output_type": "execute_result"
    }
   ],
   "source": [
    "sum2([1])"
   ]
  },
  {
   "cell_type": "code",
   "execution_count": 100,
   "id": "86437b3d",
   "metadata": {},
   "outputs": [
    {
     "data": {
      "text/plain": [
       "0"
      ]
     },
     "execution_count": 100,
     "metadata": {},
     "output_type": "execute_result"
    }
   ],
   "source": [
    "sum2([])"
   ]
  },
  {
   "cell_type": "markdown",
   "id": "86ca26bc",
   "metadata": {},
   "source": [
    "### 10.middle_way"
   ]
  },
  {
   "cell_type": "markdown",
   "id": "53f4142d",
   "metadata": {},
   "source": [
    "Given 2 int arrays, a and b, each length 3, return a new array length 2 containing their middle elements.\n",
    "\n",
    "\n",
    "middle_way([1, 2, 3], [4, 5, 6]) → [2, 5]\n",
    "middle_way([7, 7, 7], [3, 8, 0]) → [7, 8]\n",
    "middle_way([5, 2, 9], [1, 4, 5]) → [2, 4]"
   ]
  },
  {
   "cell_type": "code",
   "execution_count": 103,
   "id": "c6e4c6f8",
   "metadata": {},
   "outputs": [],
   "source": [
    "def middle_way(ar1,ar2):\n",
    "    l=[]\n",
    "    l.append(ar1[1])\n",
    "    l.append(ar2[1])\n",
    "    return l"
   ]
  },
  {
   "cell_type": "code",
   "execution_count": 104,
   "id": "90e5552d",
   "metadata": {},
   "outputs": [
    {
     "data": {
      "text/plain": [
       "[2, 5]"
      ]
     },
     "execution_count": 104,
     "metadata": {},
     "output_type": "execute_result"
    }
   ],
   "source": [
    "middle_way([1, 2, 3], [4, 5, 6]) "
   ]
  },
  {
   "cell_type": "code",
   "execution_count": 105,
   "id": "334332e1",
   "metadata": {},
   "outputs": [
    {
     "data": {
      "text/plain": [
       "[7, 8]"
      ]
     },
     "execution_count": 105,
     "metadata": {},
     "output_type": "execute_result"
    }
   ],
   "source": [
    "middle_way([7, 7, 7], [3, 8, 0])"
   ]
  },
  {
   "cell_type": "code",
   "execution_count": 106,
   "id": "669bc851",
   "metadata": {},
   "outputs": [
    {
     "data": {
      "text/plain": [
       "[2, 4]"
      ]
     },
     "execution_count": 106,
     "metadata": {},
     "output_type": "execute_result"
    }
   ],
   "source": [
    "middle_way([5, 2, 9], [1, 4, 5])"
   ]
  },
  {
   "cell_type": "markdown",
   "id": "c0212bab",
   "metadata": {},
   "source": [
    "### 11.make_ends"
   ]
  },
  {
   "cell_type": "markdown",
   "id": "2f00de69",
   "metadata": {},
   "source": [
    "Given an array of ints, return a new array length 2 containing the first and last elements from the original array. The original array will be length 1 or more.\n",
    "\n",
    "\n",
    "make_ends([1, 2, 3]) → [1, 3]\n",
    "make_ends([1, 2, 3, 4]) → [1, 4]\n",
    "make_ends([7, 4, 6, 2]) → [7, 2]"
   ]
  },
  {
   "cell_type": "code",
   "execution_count": 107,
   "id": "bb5ef7c3",
   "metadata": {},
   "outputs": [],
   "source": [
    "def make_ends(ls):\n",
    "    l=[]\n",
    "    l.append(ls[0])\n",
    "    l.append(ls[-1])\n",
    "    return l"
   ]
  },
  {
   "cell_type": "code",
   "execution_count": 108,
   "id": "1663fc7a",
   "metadata": {},
   "outputs": [
    {
     "data": {
      "text/plain": [
       "[1, 3]"
      ]
     },
     "execution_count": 108,
     "metadata": {},
     "output_type": "execute_result"
    }
   ],
   "source": [
    "make_ends([1, 2, 3])"
   ]
  },
  {
   "cell_type": "code",
   "execution_count": 109,
   "id": "1a48d3b5",
   "metadata": {},
   "outputs": [
    {
     "data": {
      "text/plain": [
       "[1, 4]"
      ]
     },
     "execution_count": 109,
     "metadata": {},
     "output_type": "execute_result"
    }
   ],
   "source": [
    "make_ends([1, 2, 3, 4])"
   ]
  },
  {
   "cell_type": "code",
   "execution_count": 110,
   "id": "cf769cf5",
   "metadata": {},
   "outputs": [
    {
     "data": {
      "text/plain": [
       "[7, 2]"
      ]
     },
     "execution_count": 110,
     "metadata": {},
     "output_type": "execute_result"
    }
   ],
   "source": [
    "make_ends([7, 4, 6, 2])"
   ]
  },
  {
   "cell_type": "markdown",
   "id": "d4284226",
   "metadata": {},
   "source": [
    "### 12.has23"
   ]
  },
  {
   "cell_type": "markdown",
   "id": "3827765a",
   "metadata": {},
   "source": [
    "Given an int array length 2, return True if it contains a 2 or a 3.\n",
    "\n",
    "\n",
    "has23([2, 5]) → True\n",
    "has23([4, 3]) → True\n",
    "has23([4, 5]) → False"
   ]
  },
  {
   "cell_type": "code",
   "execution_count": 112,
   "id": "8b8cb8d9",
   "metadata": {},
   "outputs": [],
   "source": [
    "def has23(ls):\n",
    "    return 2 in ls or 3 in ls"
   ]
  },
  {
   "cell_type": "code",
   "execution_count": 113,
   "id": "09ac7134",
   "metadata": {},
   "outputs": [
    {
     "data": {
      "text/plain": [
       "True"
      ]
     },
     "execution_count": 113,
     "metadata": {},
     "output_type": "execute_result"
    }
   ],
   "source": [
    "has23([2, 5])"
   ]
  },
  {
   "cell_type": "code",
   "execution_count": 114,
   "id": "ee2ba584",
   "metadata": {},
   "outputs": [
    {
     "data": {
      "text/plain": [
       "True"
      ]
     },
     "execution_count": 114,
     "metadata": {},
     "output_type": "execute_result"
    }
   ],
   "source": [
    "has23([4, 3])"
   ]
  },
  {
   "cell_type": "code",
   "execution_count": 115,
   "id": "59554d64",
   "metadata": {},
   "outputs": [
    {
     "data": {
      "text/plain": [
       "False"
      ]
     },
     "execution_count": 115,
     "metadata": {},
     "output_type": "execute_result"
    }
   ],
   "source": [
    "has23([4, 5])"
   ]
  },
  {
   "cell_type": "markdown",
   "id": "314e5561",
   "metadata": {},
   "source": [
    "### 13.no23 "
   ]
  },
  {
   "cell_type": "markdown",
   "id": "b42982ce",
   "metadata": {},
   "source": [
    "Given an int array length 2, return true if it does not contain a 2 or 3.\n",
    "\n",
    "\n",
    "no23([4, 5]) → true\n",
    "no23([4, 2]) → false\n",
    "no23([3, 5]) → false\n",
    "\n"
   ]
  },
  {
   "cell_type": "code",
   "execution_count": 1,
   "id": "8e7f129b",
   "metadata": {},
   "outputs": [],
   "source": [
    "def no23(ls):\n",
    "    return 2 not in ls and 3 not in ls"
   ]
  },
  {
   "cell_type": "code",
   "execution_count": 2,
   "id": "e9e99479",
   "metadata": {},
   "outputs": [
    {
     "data": {
      "text/plain": [
       "True"
      ]
     },
     "execution_count": 2,
     "metadata": {},
     "output_type": "execute_result"
    }
   ],
   "source": [
    "no23([4, 5])"
   ]
  },
  {
   "cell_type": "code",
   "execution_count": 3,
   "id": "d9f4dcaa",
   "metadata": {},
   "outputs": [
    {
     "data": {
      "text/plain": [
       "False"
      ]
     },
     "execution_count": 3,
     "metadata": {},
     "output_type": "execute_result"
    }
   ],
   "source": [
    "no23([4, 2])"
   ]
  },
  {
   "cell_type": "code",
   "execution_count": 4,
   "id": "28f2bd47",
   "metadata": {},
   "outputs": [
    {
     "data": {
      "text/plain": [
       "False"
      ]
     },
     "execution_count": 4,
     "metadata": {},
     "output_type": "execute_result"
    }
   ],
   "source": [
    "no23([3, 5])"
   ]
  },
  {
   "cell_type": "code",
   "execution_count": null,
   "id": "eebf6fd0",
   "metadata": {},
   "outputs": [],
   "source": []
  }
 ],
 "metadata": {
  "kernelspec": {
   "display_name": "Python 3 (ipykernel)",
   "language": "python",
   "name": "python3"
  },
  "language_info": {
   "codemirror_mode": {
    "name": "ipython",
    "version": 3
   },
   "file_extension": ".py",
   "mimetype": "text/x-python",
   "name": "python",
   "nbconvert_exporter": "python",
   "pygments_lexer": "ipython3",
   "version": "3.7.11"
  }
 },
 "nbformat": 4,
 "nbformat_minor": 5
}
