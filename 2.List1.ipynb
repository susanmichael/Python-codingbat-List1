{
 "cells": [
  {
   "cell_type": "markdown",
   "id": "46d33239",
   "metadata": {},
   "source": [
    "### 14.makeLast"
   ]
  },
  {
   "cell_type": "markdown",
   "id": "10954d88",
   "metadata": {},
   "source": [
    "Given an int array, return a new array with double the length where its last element is the same as the original array, and all the other elements are 0. The original array will be length 1 or more. Note: by default, a new int array contains all 0's.\n",
    "\n",
    "\n",
    "makeLast([4, 5, 6]) → [0, 0, 0, 0, 0, 6]\n",
    "makeLast([1, 2]) → [0, 0, 0, 2]\n",
    "makeLast([3]) → [0, 3]"
   ]
  },
  {
   "cell_type": "code",
   "execution_count": 13,
   "id": "2bfadf59",
   "metadata": {},
   "outputs": [],
   "source": [
    "def makeLast(ls):\n",
    "    l=[ls[-1]]\n",
    "    for i in range((len(ls)*2)-1):\n",
    "        l.insert(0,0)\n",
    "    return l"
   ]
  },
  {
   "cell_type": "code",
   "execution_count": 14,
   "id": "822a7008",
   "metadata": {},
   "outputs": [
    {
     "data": {
      "text/plain": [
       "[0, 0, 0, 0, 0, 6]"
      ]
     },
     "execution_count": 14,
     "metadata": {},
     "output_type": "execute_result"
    }
   ],
   "source": [
    "makeLast([4, 5, 6])"
   ]
  },
  {
   "cell_type": "code",
   "execution_count": 15,
   "id": "6e563e14",
   "metadata": {},
   "outputs": [
    {
     "data": {
      "text/plain": [
       "[0, 0, 0, 2]"
      ]
     },
     "execution_count": 15,
     "metadata": {},
     "output_type": "execute_result"
    }
   ],
   "source": [
    "makeLast([1, 2])"
   ]
  },
  {
   "cell_type": "code",
   "execution_count": 16,
   "id": "1322fc9b",
   "metadata": {},
   "outputs": [
    {
     "data": {
      "text/plain": [
       "[0, 3]"
      ]
     },
     "execution_count": 16,
     "metadata": {},
     "output_type": "execute_result"
    }
   ],
   "source": [
    "makeLast([3])"
   ]
  },
  {
   "cell_type": "markdown",
   "id": "7cfff589",
   "metadata": {},
   "source": [
    "### 15.double23"
   ]
  },
  {
   "cell_type": "markdown",
   "id": "417226dd",
   "metadata": {},
   "source": [
    "Given an int array, return true if the array contains 2 twice, or 3 twice. The array will be length 0, 1, or 2.\n",
    "\n",
    "\n",
    "double23([2, 2]) → true\n",
    "double23([3, 3]) → true\n",
    "double23([2, 3]) → false"
   ]
  },
  {
   "cell_type": "code",
   "execution_count": 1,
   "id": "3627593f",
   "metadata": {},
   "outputs": [],
   "source": [
    "def double23(ls):\n",
    "    count2=0\n",
    "    count3=0\n",
    "    for i in range(len(ls)):\n",
    "        if ls[i]==2:\n",
    "            count2+=1\n",
    "        elif ls[i]==3:\n",
    "            count3+=1\n",
    "    return count2==2 or count3==2"
   ]
  },
  {
   "cell_type": "code",
   "execution_count": 2,
   "id": "0910d205",
   "metadata": {},
   "outputs": [
    {
     "data": {
      "text/plain": [
       "True"
      ]
     },
     "execution_count": 2,
     "metadata": {},
     "output_type": "execute_result"
    }
   ],
   "source": [
    "double23([2, 2]) "
   ]
  },
  {
   "cell_type": "code",
   "execution_count": 3,
   "id": "01873372",
   "metadata": {},
   "outputs": [
    {
     "data": {
      "text/plain": [
       "True"
      ]
     },
     "execution_count": 3,
     "metadata": {},
     "output_type": "execute_result"
    }
   ],
   "source": [
    "double23([3, 3])"
   ]
  },
  {
   "cell_type": "code",
   "execution_count": 4,
   "id": "34a5cdc5",
   "metadata": {},
   "outputs": [
    {
     "data": {
      "text/plain": [
       "False"
      ]
     },
     "execution_count": 4,
     "metadata": {},
     "output_type": "execute_result"
    }
   ],
   "source": [
    "double23([2,3])"
   ]
  },
  {
   "cell_type": "markdown",
   "id": "dd09fc05",
   "metadata": {},
   "source": [
    "### 16.fix23 "
   ]
  },
  {
   "cell_type": "markdown",
   "id": "27c0e596",
   "metadata": {},
   "source": [
    "Given an int array length 3, if there is a 2 in the array immediately followed by a 3, set the 3 element to 0. Return the changed array.\n",
    "\n",
    "\n",
    "fix23([1, 2, 3]) → [1, 2, 0]\n",
    "fix23([2, 3, 5]) → [2, 0, 5]\n",
    "fix23([1, 2, 1]) → [1, 2, 1]"
   ]
  },
  {
   "cell_type": "code",
   "execution_count": 51,
   "id": "2eb2af96",
   "metadata": {},
   "outputs": [],
   "source": [
    "def fix23(ls):\n",
    "    for i in range(len(ls)):\n",
    "        if ls[i]==2 and ls[i+1]==3:\n",
    "            ls[i+1]=0\n",
    "    return ls"
   ]
  },
  {
   "cell_type": "code",
   "execution_count": 52,
   "id": "7483ee42",
   "metadata": {},
   "outputs": [
    {
     "data": {
      "text/plain": [
       "[1, 2, 0]"
      ]
     },
     "execution_count": 52,
     "metadata": {},
     "output_type": "execute_result"
    }
   ],
   "source": [
    "fix23([1, 2, 3])"
   ]
  },
  {
   "cell_type": "code",
   "execution_count": 53,
   "id": "57f9e88a",
   "metadata": {},
   "outputs": [
    {
     "data": {
      "text/plain": [
       "[2, 0, 5]"
      ]
     },
     "execution_count": 53,
     "metadata": {},
     "output_type": "execute_result"
    }
   ],
   "source": [
    "fix23([2, 3, 5])"
   ]
  },
  {
   "cell_type": "code",
   "execution_count": 54,
   "id": "cc4a2d0f",
   "metadata": {},
   "outputs": [
    {
     "data": {
      "text/plain": [
       "[1, 2, 1]"
      ]
     },
     "execution_count": 54,
     "metadata": {},
     "output_type": "execute_result"
    }
   ],
   "source": [
    "fix23([1, 2, 1])"
   ]
  },
  {
   "cell_type": "markdown",
   "id": "dfd44a4c",
   "metadata": {},
   "source": [
    "### 17.start1"
   ]
  },
  {
   "cell_type": "markdown",
   "id": "0574243f",
   "metadata": {},
   "source": [
    "Start with 2 int arrays, a and b, of any length. Return how many of the arrays have 1 as their first element.\n",
    "\n",
    "\n",
    "start1([1, 2, 3], [1, 3]) → 2\n",
    "start1([7, 2, 3], [1]) → 1\n",
    "start1([1, 2], []) → 1"
   ]
  },
  {
   "cell_type": "code",
   "execution_count": 65,
   "id": "aac4046e",
   "metadata": {},
   "outputs": [],
   "source": [
    "def start1(a,b):\n",
    "    count=0\n",
    "    if len(a)>0 and a[0]==1:\n",
    "        count+=1\n",
    "    if len(b)>0 and b[0]==1:\n",
    "        count+=1\n",
    "    return count"
   ]
  },
  {
   "cell_type": "code",
   "execution_count": 66,
   "id": "44091412",
   "metadata": {},
   "outputs": [
    {
     "data": {
      "text/plain": [
       "2"
      ]
     },
     "execution_count": 66,
     "metadata": {},
     "output_type": "execute_result"
    }
   ],
   "source": [
    "start1([1, 2, 3], [1, 3])"
   ]
  },
  {
   "cell_type": "code",
   "execution_count": 67,
   "id": "71e4f110",
   "metadata": {},
   "outputs": [
    {
     "data": {
      "text/plain": [
       "1"
      ]
     },
     "execution_count": 67,
     "metadata": {},
     "output_type": "execute_result"
    }
   ],
   "source": [
    "start1([7, 2, 3], [1])"
   ]
  },
  {
   "cell_type": "code",
   "execution_count": 68,
   "id": "5cdfe330",
   "metadata": {},
   "outputs": [
    {
     "data": {
      "text/plain": [
       "1"
      ]
     },
     "execution_count": 68,
     "metadata": {},
     "output_type": "execute_result"
    }
   ],
   "source": [
    "start1([1, 2], []) "
   ]
  },
  {
   "cell_type": "markdown",
   "id": "d6754267",
   "metadata": {},
   "source": [
    "### 18.biggerTwo"
   ]
  },
  {
   "cell_type": "markdown",
   "id": "8805c9f7",
   "metadata": {},
   "source": [
    "Start with 2 int arrays, a and b, each length 2. Consider the sum of the values in each array. Return the array which has the largest sum. In event of a tie, return a.\n",
    "\n",
    "\n",
    "biggerTwo([1, 2], [3, 4]) → [3, 4]\n",
    "biggerTwo([3, 4], [1, 2]) → [3, 4]\n",
    "biggerTwo([1, 1], [1, 2]) → [1, 2]\n"
   ]
  },
  {
   "cell_type": "code",
   "execution_count": 69,
   "id": "4e930a93",
   "metadata": {},
   "outputs": [],
   "source": [
    "def biggerTwo(a,b):\n",
    "    a1=sum(a)\n",
    "    b1=sum(b)\n",
    "    if a1>b1 or a1==b1:\n",
    "        return a\n",
    "    else:\n",
    "        return b\n",
    "    "
   ]
  },
  {
   "cell_type": "code",
   "execution_count": 70,
   "id": "cb0432df",
   "metadata": {},
   "outputs": [
    {
     "data": {
      "text/plain": [
       "[3, 4]"
      ]
     },
     "execution_count": 70,
     "metadata": {},
     "output_type": "execute_result"
    }
   ],
   "source": [
    "biggerTwo([1, 2], [3, 4]) "
   ]
  },
  {
   "cell_type": "code",
   "execution_count": 73,
   "id": "ac89e8db",
   "metadata": {},
   "outputs": [
    {
     "data": {
      "text/plain": [
       "[3, 4]"
      ]
     },
     "execution_count": 73,
     "metadata": {},
     "output_type": "execute_result"
    }
   ],
   "source": [
    "biggerTwo([3, 4], [5, 2])"
   ]
  },
  {
   "cell_type": "code",
   "execution_count": 72,
   "id": "3204cf05",
   "metadata": {},
   "outputs": [
    {
     "data": {
      "text/plain": [
       "[1, 2]"
      ]
     },
     "execution_count": 72,
     "metadata": {},
     "output_type": "execute_result"
    }
   ],
   "source": [
    "biggerTwo([1, 1], [1, 2]) "
   ]
  },
  {
   "cell_type": "markdown",
   "id": "f844f7e8",
   "metadata": {},
   "source": [
    "### 19.makeMiddle"
   ]
  },
  {
   "cell_type": "markdown",
   "id": "dc13edf9",
   "metadata": {},
   "source": [
    "Given an array of ints of even length, return a new array length 2 containing the middle two elements from the original array. The original array will be length 2 or more.\n",
    "\n",
    "\n",
    "makeMiddle([1, 2, 3, 4]) → [2, 3]\n",
    "makeMiddle([7, 1, 2, 3, 4, 9]) → [2, 3]\n",
    "makeMiddle([1, 2]) → [1, 2]"
   ]
  },
  {
   "cell_type": "code",
   "execution_count": 80,
   "id": "1fbbb075",
   "metadata": {},
   "outputs": [],
   "source": [
    "def makeMiddle(ls):\n",
    "    a=int(len(ls)/2-0.5)\n",
    "    return ls[a:a+2]"
   ]
  },
  {
   "cell_type": "code",
   "execution_count": 81,
   "id": "9d2cabe4",
   "metadata": {},
   "outputs": [
    {
     "data": {
      "text/plain": [
       "[2, 3]"
      ]
     },
     "execution_count": 81,
     "metadata": {},
     "output_type": "execute_result"
    }
   ],
   "source": [
    "makeMiddle([1, 2, 3, 4]) "
   ]
  },
  {
   "cell_type": "code",
   "execution_count": 82,
   "id": "e0d7ace7",
   "metadata": {},
   "outputs": [
    {
     "data": {
      "text/plain": [
       "[2, 3]"
      ]
     },
     "execution_count": 82,
     "metadata": {},
     "output_type": "execute_result"
    }
   ],
   "source": [
    "makeMiddle([7, 1, 2, 3, 4, 9])"
   ]
  },
  {
   "cell_type": "code",
   "execution_count": 83,
   "id": "f6adaee0",
   "metadata": {},
   "outputs": [
    {
     "data": {
      "text/plain": [
       "[1, 2]"
      ]
     },
     "execution_count": 83,
     "metadata": {},
     "output_type": "execute_result"
    }
   ],
   "source": [
    "makeMiddle([1, 2])"
   ]
  },
  {
   "cell_type": "markdown",
   "id": "0be33306",
   "metadata": {},
   "source": [
    "### 20.plusTwo"
   ]
  },
  {
   "cell_type": "markdown",
   "id": "615225a8",
   "metadata": {},
   "source": [
    "Given 2 int arrays, each length 2, return a new array length 4 containing all their elements.\n",
    "\n",
    "\n",
    "plusTwo([1, 2], [3, 4]) → [1, 2, 3, 4]\n",
    "plusTwo([4, 4], [2, 2]) → [4, 4, 2, 2]\n",
    "plusTwo([9, 2], [3, 4]) → [9, 2, 3, 4]"
   ]
  },
  {
   "cell_type": "code",
   "execution_count": 92,
   "id": "28716153",
   "metadata": {},
   "outputs": [],
   "source": [
    "def plusTwo(a,b):\n",
    "    a.extend(b)\n",
    "    print(a)"
   ]
  },
  {
   "cell_type": "code",
   "execution_count": 93,
   "id": "5cb4b004",
   "metadata": {},
   "outputs": [
    {
     "name": "stdout",
     "output_type": "stream",
     "text": [
      "[1, 2, 3, 4]\n"
     ]
    }
   ],
   "source": [
    "plusTwo([1, 2], [3, 4])"
   ]
  },
  {
   "cell_type": "code",
   "execution_count": 94,
   "id": "fffd4d9f",
   "metadata": {},
   "outputs": [
    {
     "name": "stdout",
     "output_type": "stream",
     "text": [
      "[4, 4, 2, 2]\n"
     ]
    }
   ],
   "source": [
    "plusTwo([4, 4], [2, 2])"
   ]
  },
  {
   "cell_type": "code",
   "execution_count": 95,
   "id": "a20dddaf",
   "metadata": {},
   "outputs": [
    {
     "name": "stdout",
     "output_type": "stream",
     "text": [
      "[9, 2, 3, 4]\n"
     ]
    }
   ],
   "source": [
    "plusTwo([9, 2], [3, 4])"
   ]
  },
  {
   "cell_type": "markdown",
   "id": "682e339a",
   "metadata": {},
   "source": [
    "### 21.swapEnds"
   ]
  },
  {
   "cell_type": "markdown",
   "id": "899e38f7",
   "metadata": {},
   "source": [
    "Given an array of ints, swap the first and last elements in the array. Return the modified array. The array length will be at least 1.\n",
    "\n",
    "\n",
    "swapEnds([1, 2, 3, 4]) → [4, 2, 3, 1]\n",
    "swapEnds([1, 2, 3]) → [3, 2, 1]\n",
    "swapEnds([8, 6, 7, 9, 5]) → [5, 6, 7, 9, 8]"
   ]
  },
  {
   "cell_type": "code",
   "execution_count": 96,
   "id": "6c1154ad",
   "metadata": {},
   "outputs": [],
   "source": [
    "def swapEnds(ls):\n",
    "    ls[0],ls[-1]=ls[-1],ls[0]\n",
    "    return ls"
   ]
  },
  {
   "cell_type": "code",
   "execution_count": 97,
   "id": "131f2bcd",
   "metadata": {},
   "outputs": [
    {
     "data": {
      "text/plain": [
       "[4, 2, 3, 1]"
      ]
     },
     "execution_count": 97,
     "metadata": {},
     "output_type": "execute_result"
    }
   ],
   "source": [
    "swapEnds([1, 2, 3, 4]) "
   ]
  },
  {
   "cell_type": "code",
   "execution_count": 98,
   "id": "58a3a8e6",
   "metadata": {},
   "outputs": [
    {
     "data": {
      "text/plain": [
       "[3, 2, 1]"
      ]
     },
     "execution_count": 98,
     "metadata": {},
     "output_type": "execute_result"
    }
   ],
   "source": [
    "swapEnds([1, 2, 3]) "
   ]
  },
  {
   "cell_type": "code",
   "execution_count": 99,
   "id": "261cec6e",
   "metadata": {},
   "outputs": [
    {
     "data": {
      "text/plain": [
       "[5, 6, 7, 9, 8]"
      ]
     },
     "execution_count": 99,
     "metadata": {},
     "output_type": "execute_result"
    }
   ],
   "source": [
    "swapEnds([8, 6, 7, 9, 5])"
   ]
  },
  {
   "cell_type": "markdown",
   "id": "4464832a",
   "metadata": {},
   "source": [
    "### 22.midThree"
   ]
  },
  {
   "cell_type": "markdown",
   "id": "b11e7b25",
   "metadata": {},
   "source": [
    "Given an array of ints of odd length, return a new array length 3 containing the elements from the middle of the array. The array length will be at least 3.\n",
    "\n",
    "\n",
    "midThree([1, 2, 3, 4, 5]) → [2, 3, 4]\n",
    "midThree([8, 6, 7, 5, 3, 0, 9]) → [7, 5, 3]\n",
    "midThree([1, 2, 3]) → [1, 2, 3]"
   ]
  },
  {
   "cell_type": "code",
   "execution_count": 101,
   "id": "fa63987d",
   "metadata": {},
   "outputs": [],
   "source": [
    "def midThree(ls):\n",
    "    a=int(len(ls)/2)\n",
    "    return ls[a-1:a+2]"
   ]
  },
  {
   "cell_type": "code",
   "execution_count": 102,
   "id": "0b76e80f",
   "metadata": {},
   "outputs": [
    {
     "data": {
      "text/plain": [
       "[2, 3, 4]"
      ]
     },
     "execution_count": 102,
     "metadata": {},
     "output_type": "execute_result"
    }
   ],
   "source": [
    "midThree([1, 2, 3, 4, 5])"
   ]
  },
  {
   "cell_type": "code",
   "execution_count": 103,
   "id": "6843a14c",
   "metadata": {},
   "outputs": [
    {
     "data": {
      "text/plain": [
       "[7, 5, 3]"
      ]
     },
     "execution_count": 103,
     "metadata": {},
     "output_type": "execute_result"
    }
   ],
   "source": [
    "midThree([8, 6, 7, 5, 3, 0, 9])"
   ]
  },
  {
   "cell_type": "code",
   "execution_count": 104,
   "id": "b1386daf",
   "metadata": {},
   "outputs": [
    {
     "data": {
      "text/plain": [
       "[1, 2, 3]"
      ]
     },
     "execution_count": 104,
     "metadata": {},
     "output_type": "execute_result"
    }
   ],
   "source": [
    "midThree([1, 2, 3])"
   ]
  },
  {
   "cell_type": "markdown",
   "id": "9a163fd9",
   "metadata": {},
   "source": [
    "### 23.maxTriple"
   ]
  },
  {
   "cell_type": "markdown",
   "id": "ef293fc0",
   "metadata": {},
   "source": [
    "Given an array of ints of odd length, look at the first, last, and middle values in the array and return the largest. The array length will be a least 1.\n",
    "\n",
    "\n",
    "maxTriple([1, 2, 3]) → 3\n",
    "maxTriple([1, 5, 3]) → 5\n",
    "maxTriple([5, 2, 3]) → 5"
   ]
  },
  {
   "cell_type": "code",
   "execution_count": 109,
   "id": "3ab1048d",
   "metadata": {},
   "outputs": [],
   "source": [
    "def maxTriple(ls):\n",
    "    a=int(len(ls)/2)\n",
    "    return max(ls[0],ls[a],ls[-1])"
   ]
  },
  {
   "cell_type": "code",
   "execution_count": 110,
   "id": "49c79da1",
   "metadata": {},
   "outputs": [
    {
     "data": {
      "text/plain": [
       "3"
      ]
     },
     "execution_count": 110,
     "metadata": {},
     "output_type": "execute_result"
    }
   ],
   "source": [
    "maxTriple([1, 2, 3])"
   ]
  },
  {
   "cell_type": "code",
   "execution_count": 111,
   "id": "2bfd0202",
   "metadata": {},
   "outputs": [
    {
     "data": {
      "text/plain": [
       "5"
      ]
     },
     "execution_count": 111,
     "metadata": {},
     "output_type": "execute_result"
    }
   ],
   "source": [
    "maxTriple([1, 5, 3])"
   ]
  },
  {
   "cell_type": "code",
   "execution_count": 112,
   "id": "3f45b541",
   "metadata": {},
   "outputs": [
    {
     "data": {
      "text/plain": [
       "5"
      ]
     },
     "execution_count": 112,
     "metadata": {},
     "output_type": "execute_result"
    }
   ],
   "source": [
    "maxTriple([5, 2, 3])"
   ]
  },
  {
   "cell_type": "markdown",
   "id": "bdfcd035",
   "metadata": {},
   "source": [
    "### 24.frontPiece"
   ]
  },
  {
   "cell_type": "markdown",
   "id": "77a38ced",
   "metadata": {},
   "source": [
    "Given an int array of any length, return a new array of its first 2 elements. If the array is smaller than length 2, use whatever elements are present.\n",
    "\n",
    "\n",
    "frontPiece([1, 2, 3]) → [1, 2]\n",
    "frontPiece([1, 2]) → [1, 2]\n",
    "frontPiece([1]) → [1]"
   ]
  },
  {
   "cell_type": "code",
   "execution_count": 113,
   "id": "8e49a8f6",
   "metadata": {},
   "outputs": [],
   "source": [
    "def frontPiece(ls):\n",
    "    if len(ls)>=2:\n",
    "        return ls[:2]\n",
    "    else:return ls"
   ]
  },
  {
   "cell_type": "code",
   "execution_count": 114,
   "id": "ec011724",
   "metadata": {},
   "outputs": [
    {
     "data": {
      "text/plain": [
       "[1, 2]"
      ]
     },
     "execution_count": 114,
     "metadata": {},
     "output_type": "execute_result"
    }
   ],
   "source": [
    "frontPiece([1, 2, 3])"
   ]
  },
  {
   "cell_type": "code",
   "execution_count": 115,
   "id": "6b8c1588",
   "metadata": {},
   "outputs": [
    {
     "data": {
      "text/plain": [
       "[1, 2]"
      ]
     },
     "execution_count": 115,
     "metadata": {},
     "output_type": "execute_result"
    }
   ],
   "source": [
    "frontPiece([1, 2])"
   ]
  },
  {
   "cell_type": "code",
   "execution_count": 116,
   "id": "c23d31f8",
   "metadata": {},
   "outputs": [
    {
     "data": {
      "text/plain": [
       "[1]"
      ]
     },
     "execution_count": 116,
     "metadata": {},
     "output_type": "execute_result"
    }
   ],
   "source": [
    "frontPiece([1])"
   ]
  },
  {
   "cell_type": "markdown",
   "id": "8ad7a222",
   "metadata": {},
   "source": [
    "### 25.unlucky1"
   ]
  },
  {
   "cell_type": "markdown",
   "id": "647a8bdb",
   "metadata": {},
   "source": [
    "We'll say that a 1 immediately followed by a 3 in an array is an \"unlucky\" 1. Return true if the given array contains an unlucky 1 in the first 2 or last 2 positions in the array.\n",
    "\n",
    "\n",
    "unlucky1([1, 3, 4, 5]) → true\n",
    "unlucky1([2, 1, 3, 4, 5]) → true\n",
    "unlucky1([1, 1, 1]) → false"
   ]
  },
  {
   "cell_type": "code",
   "execution_count": 117,
   "id": "70c0608a",
   "metadata": {},
   "outputs": [],
   "source": [
    "def unlucky1(ls):\n",
    "    return ls[0]==1 and ls[1]==3 or ls[-1]==3 and ls[-2]==1"
   ]
  },
  {
   "cell_type": "code",
   "execution_count": 118,
   "id": "0e8f95b2",
   "metadata": {},
   "outputs": [
    {
     "data": {
      "text/plain": [
       "True"
      ]
     },
     "execution_count": 118,
     "metadata": {},
     "output_type": "execute_result"
    }
   ],
   "source": [
    "unlucky1([1, 3, 4, 5])"
   ]
  },
  {
   "cell_type": "code",
   "execution_count": 119,
   "id": "524d2a26",
   "metadata": {},
   "outputs": [
    {
     "data": {
      "text/plain": [
       "False"
      ]
     },
     "execution_count": 119,
     "metadata": {},
     "output_type": "execute_result"
    }
   ],
   "source": [
    "unlucky1([2, 1, 3, 4, 5])"
   ]
  },
  {
   "cell_type": "code",
   "execution_count": 120,
   "id": "6394ca7d",
   "metadata": {},
   "outputs": [
    {
     "data": {
      "text/plain": [
       "False"
      ]
     },
     "execution_count": 120,
     "metadata": {},
     "output_type": "execute_result"
    }
   ],
   "source": [
    "unlucky1([1, 1, 1])"
   ]
  },
  {
   "cell_type": "markdown",
   "id": "13f7155f",
   "metadata": {},
   "source": [
    "### 26.make2"
   ]
  },
  {
   "cell_type": "markdown",
   "id": "a07f43f8",
   "metadata": {},
   "source": [
    "Given 2 int arrays, a and b, return a new array length 2 containing, as much as will fit, the elements from a followed by the elements from b. The arrays may be any length, including 0, but there will be 2 or more elements available between the 2 arrays.\n",
    "\n",
    "\n",
    "make2([4, 5], [1, 2, 3]) → [4, 5]\n",
    "make2([4], [1, 2, 3]) → [4, 1]\n",
    "make2([], [1, 2]) → [1, 2]"
   ]
  },
  {
   "cell_type": "code",
   "execution_count": 40,
   "id": "4ef13938",
   "metadata": {},
   "outputs": [],
   "source": [
    "def make2(a,b):\n",
    "    if len(a)>=2:\n",
    "        return a\n",
    "    elif len(a)==1:\n",
    "        a.append(b[0])\n",
    "        return a\n",
    "    elif len(a)==0:\n",
    "        return b[0:2]"
   ]
  },
  {
   "cell_type": "code",
   "execution_count": 41,
   "id": "eb9573d8",
   "metadata": {},
   "outputs": [
    {
     "data": {
      "text/plain": [
       "[4, 5]"
      ]
     },
     "execution_count": 41,
     "metadata": {},
     "output_type": "execute_result"
    }
   ],
   "source": [
    "make2([4, 5], [1, 2, 3])"
   ]
  },
  {
   "cell_type": "code",
   "execution_count": 42,
   "id": "42a2f5a1",
   "metadata": {},
   "outputs": [
    {
     "data": {
      "text/plain": [
       "[4, 1]"
      ]
     },
     "execution_count": 42,
     "metadata": {},
     "output_type": "execute_result"
    }
   ],
   "source": [
    "make2([4], [1, 2, 3])"
   ]
  },
  {
   "cell_type": "code",
   "execution_count": 43,
   "id": "3ab20b1e",
   "metadata": {},
   "outputs": [
    {
     "data": {
      "text/plain": [
       "[1, 2]"
      ]
     },
     "execution_count": 43,
     "metadata": {},
     "output_type": "execute_result"
    }
   ],
   "source": [
    " make2([], [1, 2])"
   ]
  }
 ],
 "metadata": {
  "kernelspec": {
   "display_name": "Python 3 (ipykernel)",
   "language": "python",
   "name": "python3"
  },
  "language_info": {
   "codemirror_mode": {
    "name": "ipython",
    "version": 3
   },
   "file_extension": ".py",
   "mimetype": "text/x-python",
   "name": "python",
   "nbconvert_exporter": "python",
   "pygments_lexer": "ipython3",
   "version": "3.7.11"
  }
 },
 "nbformat": 4,
 "nbformat_minor": 5
}
