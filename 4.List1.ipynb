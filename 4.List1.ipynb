{
 "cells": [
  {
   "cell_type": "markdown",
   "id": "ce5bc3e0",
   "metadata": {},
   "source": [
    "### 1.first_last6"
   ]
  },
  {
   "cell_type": "markdown",
   "id": "f38d82b9",
   "metadata": {},
   "source": [
    "Given an array of ints, return True if 6 appears as either the first or last element in the array. The array will be length 1 or more.\n",
    "\n",
    "\n",
    "first_last6([1, 2, 6]) → True\n",
    "first_last6([6, 1, 2, 3]) → True\n",
    "first_last6([13, 6, 1, 2, 3]) → False"
   ]
  },
  {
   "cell_type": "code",
   "execution_count": 2,
   "id": "5d6de061",
   "metadata": {},
   "outputs": [],
   "source": [
    "def first_last6(ls):\n",
    "    return ls[0]==6 or ls[-1]==6"
   ]
  },
  {
   "cell_type": "code",
   "execution_count": 3,
   "id": "5fcf6e1a",
   "metadata": {},
   "outputs": [
    {
     "data": {
      "text/plain": [
       "True"
      ]
     },
     "execution_count": 3,
     "metadata": {},
     "output_type": "execute_result"
    }
   ],
   "source": [
    "first_last6([1, 2, 6])"
   ]
  },
  {
   "cell_type": "code",
   "execution_count": 4,
   "id": "ec6ec4e1",
   "metadata": {},
   "outputs": [
    {
     "data": {
      "text/plain": [
       "True"
      ]
     },
     "execution_count": 4,
     "metadata": {},
     "output_type": "execute_result"
    }
   ],
   "source": [
    "first_last6([6, 1, 2, 3])"
   ]
  },
  {
   "cell_type": "code",
   "execution_count": 5,
   "id": "80b9587c",
   "metadata": {},
   "outputs": [
    {
     "data": {
      "text/plain": [
       "False"
      ]
     },
     "execution_count": 5,
     "metadata": {},
     "output_type": "execute_result"
    }
   ],
   "source": [
    "first_last6([13, 6, 1, 2, 3])"
   ]
  },
  {
   "cell_type": "markdown",
   "id": "1fbc1ce6",
   "metadata": {},
   "source": [
    "### 2.same_first_last"
   ]
  },
  {
   "cell_type": "markdown",
   "id": "49c1c57d",
   "metadata": {},
   "source": [
    "Given an array of ints, return True if the array is length 1 or more, and the first element and the last element are equal.\n",
    "\n",
    "\n",
    "same_first_last([1, 2, 3]) → False\n",
    "same_first_last([1, 2, 3, 1]) → True\n",
    "same_first_last([1, 2, 1]) → True"
   ]
  },
  {
   "cell_type": "code",
   "execution_count": 7,
   "id": "c4169856",
   "metadata": {},
   "outputs": [],
   "source": [
    "def same_first_last(ls):\n",
    "    return ls[0]==ls[-1]"
   ]
  },
  {
   "cell_type": "code",
   "execution_count": 8,
   "id": "335a354a",
   "metadata": {},
   "outputs": [
    {
     "data": {
      "text/plain": [
       "False"
      ]
     },
     "execution_count": 8,
     "metadata": {},
     "output_type": "execute_result"
    }
   ],
   "source": [
    "same_first_last([1, 2, 3])"
   ]
  },
  {
   "cell_type": "code",
   "execution_count": 9,
   "id": "3bab6750",
   "metadata": {},
   "outputs": [
    {
     "data": {
      "text/plain": [
       "True"
      ]
     },
     "execution_count": 9,
     "metadata": {},
     "output_type": "execute_result"
    }
   ],
   "source": [
    "same_first_last([1, 2, 3, 1])"
   ]
  },
  {
   "cell_type": "code",
   "execution_count": 10,
   "id": "2e1f8a73",
   "metadata": {},
   "outputs": [
    {
     "data": {
      "text/plain": [
       "True"
      ]
     },
     "execution_count": 10,
     "metadata": {},
     "output_type": "execute_result"
    }
   ],
   "source": [
    "same_first_last([4, 2, 4])"
   ]
  },
  {
   "cell_type": "markdown",
   "id": "3ffd207b",
   "metadata": {},
   "source": [
    "### 3.make_pi"
   ]
  },
  {
   "cell_type": "markdown",
   "id": "4bce6ec9",
   "metadata": {},
   "source": [
    "Return an int array length 3 containing the first 3 digits of pi, {3, 1, 4}.\n",
    "\n",
    "\n",
    "make_pi() → [3, 1, 4]"
   ]
  },
  {
   "cell_type": "code",
   "execution_count": 15,
   "id": "97bdd0ed",
   "metadata": {},
   "outputs": [],
   "source": [
    "def make_pi():\n",
    "    return [3,1,4]"
   ]
  },
  {
   "cell_type": "code",
   "execution_count": 16,
   "id": "09303916",
   "metadata": {},
   "outputs": [
    {
     "data": {
      "text/plain": [
       "[3, 1, 4]"
      ]
     },
     "execution_count": 16,
     "metadata": {},
     "output_type": "execute_result"
    }
   ],
   "source": [
    "make_pi()"
   ]
  },
  {
   "cell_type": "markdown",
   "id": "0420ba30",
   "metadata": {},
   "source": [
    "### 4.common_end"
   ]
  },
  {
   "cell_type": "markdown",
   "id": "6e09ef84",
   "metadata": {},
   "source": [
    "Given 2 arrays of ints, a and b, return True if they have the same first element or they have the same last element. Both arrays will be length 1 or more.\n",
    "\n",
    "\n",
    "common_end([1, 2, 3], [7, 3]) → True\n",
    "common_end([1, 2, 3], [7, 3, 2]) → False\n",
    "common_end([1, 2, 3], [1, 3]) → True"
   ]
  },
  {
   "cell_type": "code",
   "execution_count": 20,
   "id": "9f4ddeef",
   "metadata": {},
   "outputs": [],
   "source": [
    "def common_end(ar1,ar2):\n",
    "    return ar1[0]==ar2[0] or ar1[-1]==ar2[-1]"
   ]
  },
  {
   "cell_type": "code",
   "execution_count": 21,
   "id": "c4f7ed89",
   "metadata": {},
   "outputs": [
    {
     "data": {
      "text/plain": [
       "True"
      ]
     },
     "execution_count": 21,
     "metadata": {},
     "output_type": "execute_result"
    }
   ],
   "source": [
    "common_end([1, 2, 3], [7, 3])"
   ]
  },
  {
   "cell_type": "code",
   "execution_count": 22,
   "id": "da6bbae6",
   "metadata": {},
   "outputs": [
    {
     "data": {
      "text/plain": [
       "False"
      ]
     },
     "execution_count": 22,
     "metadata": {},
     "output_type": "execute_result"
    }
   ],
   "source": [
    "common_end([1, 2, 3], [7, 3, 2])"
   ]
  },
  {
   "cell_type": "code",
   "execution_count": 23,
   "id": "f21dd63e",
   "metadata": {},
   "outputs": [
    {
     "data": {
      "text/plain": [
       "True"
      ]
     },
     "execution_count": 23,
     "metadata": {},
     "output_type": "execute_result"
    }
   ],
   "source": [
    "common_end([1, 2, 3], [1, 3])"
   ]
  },
  {
   "cell_type": "markdown",
   "id": "058b3679",
   "metadata": {},
   "source": [
    "### 5.sum3"
   ]
  },
  {
   "cell_type": "markdown",
   "id": "d02892d0",
   "metadata": {},
   "source": [
    "Given an array of ints length 3, return the sum of all the elements.\n",
    "\n",
    "\n",
    "sum3([1, 2, 3]) → 6\n",
    "sum3([5, 11, 2]) → 18\n",
    "sum3([7, 0, 0]) → 7"
   ]
  },
  {
   "cell_type": "code",
   "execution_count": 31,
   "id": "5590d61b",
   "metadata": {},
   "outputs": [],
   "source": [
    "def sum3(ls):\n",
    "    sum=0\n",
    "    for i in range(len(ls)):\n",
    "        sum=sum+ls[i]\n",
    "    return sum"
   ]
  },
  {
   "cell_type": "code",
   "execution_count": 32,
   "id": "cc2ca78f",
   "metadata": {},
   "outputs": [
    {
     "data": {
      "text/plain": [
       "6"
      ]
     },
     "execution_count": 32,
     "metadata": {},
     "output_type": "execute_result"
    }
   ],
   "source": [
    "sum3([1, 2, 3])"
   ]
  },
  {
   "cell_type": "code",
   "execution_count": 33,
   "id": "3751ff35",
   "metadata": {},
   "outputs": [
    {
     "data": {
      "text/plain": [
       "18"
      ]
     },
     "execution_count": 33,
     "metadata": {},
     "output_type": "execute_result"
    }
   ],
   "source": [
    "sum3([5, 11, 2])"
   ]
  },
  {
   "cell_type": "code",
   "execution_count": 34,
   "id": "2648f0e5",
   "metadata": {},
   "outputs": [
    {
     "data": {
      "text/plain": [
       "7"
      ]
     },
     "execution_count": 34,
     "metadata": {},
     "output_type": "execute_result"
    }
   ],
   "source": [
    "sum3([7, 0, 0])"
   ]
  },
  {
   "cell_type": "markdown",
   "id": "695f7fd5",
   "metadata": {},
   "source": [
    "### 6.rotate_left3"
   ]
  },
  {
   "cell_type": "markdown",
   "id": "7f7a469b",
   "metadata": {},
   "source": [
    "Given an array of ints length 3, return an array with the elements \"rotated left\" so {1, 2, 3} yields {2, 3, 1}.\n",
    "\n",
    "\n",
    "rotate_left3([1, 2, 3]) → [2, 3, 1]\n",
    "rotate_left3([5, 11, 9]) → [11, 9, 5]\n",
    "rotate_left3([7, 0, 0]) → [0, 0, 7]"
   ]
  },
  {
   "cell_type": "code",
   "execution_count": 37,
   "id": "e1f79292",
   "metadata": {},
   "outputs": [],
   "source": [
    "def rotate_left3(ls):\n",
    "    return ls[1:]+ls[:1]"
   ]
  },
  {
   "cell_type": "code",
   "execution_count": 38,
   "id": "adbc1993",
   "metadata": {},
   "outputs": [
    {
     "data": {
      "text/plain": [
       "[2, 3, 1]"
      ]
     },
     "execution_count": 38,
     "metadata": {},
     "output_type": "execute_result"
    }
   ],
   "source": [
    "rotate_left3([1, 2, 3])"
   ]
  },
  {
   "cell_type": "code",
   "execution_count": 39,
   "id": "e8bc616d",
   "metadata": {},
   "outputs": [
    {
     "data": {
      "text/plain": [
       "[11, 9, 5]"
      ]
     },
     "execution_count": 39,
     "metadata": {},
     "output_type": "execute_result"
    }
   ],
   "source": [
    "rotate_left3([5, 11, 9])"
   ]
  },
  {
   "cell_type": "code",
   "execution_count": 40,
   "id": "688ebb88",
   "metadata": {},
   "outputs": [
    {
     "data": {
      "text/plain": [
       "[0, 0, 7]"
      ]
     },
     "execution_count": 40,
     "metadata": {},
     "output_type": "execute_result"
    }
   ],
   "source": [
    "rotate_left3([7, 0, 0])"
   ]
  },
  {
   "cell_type": "markdown",
   "id": "547588f1",
   "metadata": {},
   "source": [
    "### 7.reverse3"
   ]
  },
  {
   "cell_type": "markdown",
   "id": "0103b966",
   "metadata": {},
   "source": [
    "Given an array of ints length 3, return a new array with the elements in reverse order, so {1, 2, 3} becomes {3, 2, 1}.\n",
    "\n",
    "\n",
    "reverse3([1, 2, 3]) → [3, 2, 1]\n",
    "reverse3([5, 11, 9]) → [9, 11, 5]\n",
    "reverse3([7, 0, 0]) → [0, 0, 7]"
   ]
  },
  {
   "cell_type": "code",
   "execution_count": 43,
   "id": "19517629",
   "metadata": {},
   "outputs": [],
   "source": [
    "def reverse3(ls):\n",
    "    return ls[::-1]"
   ]
  },
  {
   "cell_type": "code",
   "execution_count": 44,
   "id": "afe9e66f",
   "metadata": {},
   "outputs": [
    {
     "data": {
      "text/plain": [
       "[3, 2, 1]"
      ]
     },
     "execution_count": 44,
     "metadata": {},
     "output_type": "execute_result"
    }
   ],
   "source": [
    "reverse3([1, 2, 3])"
   ]
  },
  {
   "cell_type": "code",
   "execution_count": 45,
   "id": "d6b0d2de",
   "metadata": {},
   "outputs": [
    {
     "data": {
      "text/plain": [
       "[9, 11, 5]"
      ]
     },
     "execution_count": 45,
     "metadata": {},
     "output_type": "execute_result"
    }
   ],
   "source": [
    "reverse3([5, 11, 9])"
   ]
  },
  {
   "cell_type": "code",
   "execution_count": 46,
   "id": "535cfb23",
   "metadata": {},
   "outputs": [
    {
     "data": {
      "text/plain": [
       "[0, 0, 7]"
      ]
     },
     "execution_count": 46,
     "metadata": {},
     "output_type": "execute_result"
    }
   ],
   "source": [
    "reverse3([7, 0, 0]) "
   ]
  },
  {
   "cell_type": "markdown",
   "id": "5ec43006",
   "metadata": {},
   "source": [
    "### 8.max_end3"
   ]
  },
  {
   "cell_type": "markdown",
   "id": "c3366d80",
   "metadata": {},
   "source": [
    "Given an array of ints length 3, figure out which is larger, the first or last element in the array, and set all the other elements to be that value. Return the changed array.\n",
    "\n",
    "\n",
    "max_end3([1, 2, 3]) → [3, 3, 3]\n",
    "max_end3([11, 5, 9]) → [11, 11, 11]\n",
    "max_end3([2, 11, 3]) → [3, 3, 3]"
   ]
  },
  {
   "cell_type": "code",
   "execution_count": 51,
   "id": "fd84725f",
   "metadata": {},
   "outputs": [],
   "source": [
    "def max_end3(ls):\n",
    "    a=ls[0]\n",
    "    b=ls[-1]\n",
    "    l=[]\n",
    "    if a>b:\n",
    "        for i in range(3):\n",
    "            l.append(a)\n",
    "    else:\n",
    "        for i in range(3):\n",
    "            l.append(b)\n",
    "    return l"
   ]
  },
  {
   "cell_type": "code",
   "execution_count": 61,
   "id": "1f7da5b7",
   "metadata": {},
   "outputs": [],
   "source": [
    "def max_end3(ls):\n",
    "    m=max(ls[0],ls[-1])\n",
    "    l=[]\n",
    "    for i in range(3):\n",
    "        l.append(m)\n",
    "    return l"
   ]
  },
  {
   "cell_type": "code",
   "execution_count": 62,
   "id": "9a4c61ba",
   "metadata": {},
   "outputs": [
    {
     "data": {
      "text/plain": [
       "[3, 3, 3]"
      ]
     },
     "execution_count": 62,
     "metadata": {},
     "output_type": "execute_result"
    }
   ],
   "source": [
    "max_end3([1, 2, 3])"
   ]
  },
  {
   "cell_type": "code",
   "execution_count": 63,
   "id": "314090f2",
   "metadata": {},
   "outputs": [
    {
     "data": {
      "text/plain": [
       "[11, 11, 11]"
      ]
     },
     "execution_count": 63,
     "metadata": {},
     "output_type": "execute_result"
    }
   ],
   "source": [
    "max_end3([11, 5, 9])"
   ]
  },
  {
   "cell_type": "code",
   "execution_count": 64,
   "id": "bd005373",
   "metadata": {},
   "outputs": [
    {
     "data": {
      "text/plain": [
       "[3, 3, 3]"
      ]
     },
     "execution_count": 64,
     "metadata": {},
     "output_type": "execute_result"
    }
   ],
   "source": [
    "max_end3([2, 11, 3])"
   ]
  },
  {
   "cell_type": "markdown",
   "id": "8135c0c9",
   "metadata": {},
   "source": [
    "### 9.sum2"
   ]
  },
  {
   "cell_type": "markdown",
   "id": "70a614ab",
   "metadata": {},
   "source": [
    "Given an array of ints, return the sum of the first 2 elements in the array. If the array length is less than 2, just sum up the elements that exist, returning 0 if the array is length 0.\n",
    "\n",
    "\n",
    "sum2([1, 2, 3]) → 3\n",
    "sum2([1, 1]) → 2\n",
    "sum2([1, 1, 1, 1]) → 2"
   ]
  },
  {
   "cell_type": "code",
   "execution_count": 95,
   "id": "6a797431",
   "metadata": {},
   "outputs": [],
   "source": [
    "def sum2(ls):\n",
    "    if len(ls)>=2:\n",
    "        return ls[0]+ls[1]\n",
    "    elif len(ls)==0:\n",
    "        return 0\n",
    "    else:\n",
    "        return 0+ls[0]"
   ]
  },
  {
   "cell_type": "code",
   "execution_count": 96,
   "id": "2464d66b",
   "metadata": {},
   "outputs": [
    {
     "data": {
      "text/plain": [
       "3"
      ]
     },
     "execution_count": 96,
     "metadata": {},
     "output_type": "execute_result"
    }
   ],
   "source": [
    "sum2([1, 2, 3])"
   ]
  },
  {
   "cell_type": "code",
   "execution_count": 97,
   "id": "9e217565",
   "metadata": {},
   "outputs": [
    {
     "data": {
      "text/plain": [
       "2"
      ]
     },
     "execution_count": 97,
     "metadata": {},
     "output_type": "execute_result"
    }
   ],
   "source": [
    "sum2([1, 1])"
   ]
  },
  {
   "cell_type": "code",
   "execution_count": 98,
   "id": "da315cf7",
   "metadata": {},
   "outputs": [
    {
     "data": {
      "text/plain": [
       "2"
      ]
     },
     "execution_count": 98,
     "metadata": {},
     "output_type": "execute_result"
    }
   ],
   "source": [
    "sum2([1, 1, 1, 1])"
   ]
  },
  {
   "cell_type": "code",
   "execution_count": 99,
   "id": "e9ef5e14",
   "metadata": {},
   "outputs": [
    {
     "data": {
      "text/plain": [
       "1"
      ]
     },
     "execution_count": 99,
     "metadata": {},
     "output_type": "execute_result"
    }
   ],
   "source": [
    "sum2([1])"
   ]
  },
  {
   "cell_type": "code",
   "execution_count": 100,
   "id": "86437b3d",
   "metadata": {},
   "outputs": [
    {
     "data": {
      "text/plain": [
       "0"
      ]
     },
     "execution_count": 100,
     "metadata": {},
     "output_type": "execute_result"
    }
   ],
   "source": [
    "sum2([])"
   ]
  },
  {
   "cell_type": "markdown",
   "id": "86ca26bc",
   "metadata": {},
   "source": [
    "### 10.middle_way"
   ]
  },
  {
   "cell_type": "markdown",
   "id": "53f4142d",
   "metadata": {},
   "source": [
    "Given 2 int arrays, a and b, each length 3, return a new array length 2 containing their middle elements.\n",
    "\n",
    "\n",
    "middle_way([1, 2, 3], [4, 5, 6]) → [2, 5]\n",
    "middle_way([7, 7, 7], [3, 8, 0]) → [7, 8]\n",
    "middle_way([5, 2, 9], [1, 4, 5]) → [2, 4]"
   ]
  },
  {
   "cell_type": "code",
   "execution_count": 103,
   "id": "c6e4c6f8",
   "metadata": {},
   "outputs": [],
   "source": [
    "def middle_way(ar1,ar2):\n",
    "    l=[]\n",
    "    l.append(ar1[1])\n",
    "    l.append(ar2[1])\n",
    "    return l"
   ]
  },
  {
   "cell_type": "code",
   "execution_count": 104,
   "id": "90e5552d",
   "metadata": {},
   "outputs": [
    {
     "data": {
      "text/plain": [
       "[2, 5]"
      ]
     },
     "execution_count": 104,
     "metadata": {},
     "output_type": "execute_result"
    }
   ],
   "source": [
    "middle_way([1, 2, 3], [4, 5, 6]) "
   ]
  },
  {
   "cell_type": "code",
   "execution_count": 105,
   "id": "334332e1",
   "metadata": {},
   "outputs": [
    {
     "data": {
      "text/plain": [
       "[7, 8]"
      ]
     },
     "execution_count": 105,
     "metadata": {},
     "output_type": "execute_result"
    }
   ],
   "source": [
    "middle_way([7, 7, 7], [3, 8, 0])"
   ]
  },
  {
   "cell_type": "code",
   "execution_count": 106,
   "id": "669bc851",
   "metadata": {},
   "outputs": [
    {
     "data": {
      "text/plain": [
       "[2, 4]"
      ]
     },
     "execution_count": 106,
     "metadata": {},
     "output_type": "execute_result"
    }
   ],
   "source": [
    "middle_way([5, 2, 9], [1, 4, 5])"
   ]
  },
  {
   "cell_type": "markdown",
   "id": "c0212bab",
   "metadata": {},
   "source": [
    "### 11.make_ends"
   ]
  },
  {
   "cell_type": "markdown",
   "id": "2f00de69",
   "metadata": {},
   "source": [
    "Given an array of ints, return a new array length 2 containing the first and last elements from the original array. The original array will be length 1 or more.\n",
    "\n",
    "\n",
    "make_ends([1, 2, 3]) → [1, 3]\n",
    "make_ends([1, 2, 3, 4]) → [1, 4]\n",
    "make_ends([7, 4, 6, 2]) → [7, 2]"
   ]
  },
  {
   "cell_type": "code",
   "execution_count": 107,
   "id": "bb5ef7c3",
   "metadata": {},
   "outputs": [],
   "source": [
    "def make_ends(ls):\n",
    "    l=[]\n",
    "    l.append(ls[0])\n",
    "    l.append(ls[-1])\n",
    "    return l"
   ]
  },
  {
   "cell_type": "code",
   "execution_count": 108,
   "id": "1663fc7a",
   "metadata": {},
   "outputs": [
    {
     "data": {
      "text/plain": [
       "[1, 3]"
      ]
     },
     "execution_count": 108,
     "metadata": {},
     "output_type": "execute_result"
    }
   ],
   "source": [
    "make_ends([1, 2, 3])"
   ]
  },
  {
   "cell_type": "code",
   "execution_count": 109,
   "id": "1a48d3b5",
   "metadata": {},
   "outputs": [
    {
     "data": {
      "text/plain": [
       "[1, 4]"
      ]
     },
     "execution_count": 109,
     "metadata": {},
     "output_type": "execute_result"
    }
   ],
   "source": [
    "make_ends([1, 2, 3, 4])"
   ]
  },
  {
   "cell_type": "code",
   "execution_count": 110,
   "id": "cf769cf5",
   "metadata": {},
   "outputs": [
    {
     "data": {
      "text/plain": [
       "[7, 2]"
      ]
     },
     "execution_count": 110,
     "metadata": {},
     "output_type": "execute_result"
    }
   ],
   "source": [
    "make_ends([7, 4, 6, 2])"
   ]
  },
  {
   "cell_type": "markdown",
   "id": "d4284226",
   "metadata": {},
   "source": [
    "### 12.has23"
   ]
  },
  {
   "cell_type": "markdown",
   "id": "3827765a",
   "metadata": {},
   "source": [
    "Given an int array length 2, return True if it contains a 2 or a 3.\n",
    "\n",
    "\n",
    "has23([2, 5]) → True\n",
    "has23([4, 3]) → True\n",
    "has23([4, 5]) → False"
   ]
  },
  {
   "cell_type": "code",
   "execution_count": 112,
   "id": "8b8cb8d9",
   "metadata": {},
   "outputs": [],
   "source": [
    "def has23(ls):\n",
    "    return 2 in ls or 3 in ls"
   ]
  },
  {
   "cell_type": "code",
   "execution_count": 113,
   "id": "09ac7134",
   "metadata": {},
   "outputs": [
    {
     "data": {
      "text/plain": [
       "True"
      ]
     },
     "execution_count": 113,
     "metadata": {},
     "output_type": "execute_result"
    }
   ],
   "source": [
    "has23([2, 5])"
   ]
  },
  {
   "cell_type": "code",
   "execution_count": 114,
   "id": "ee2ba584",
   "metadata": {},
   "outputs": [
    {
     "data": {
      "text/plain": [
       "True"
      ]
     },
     "execution_count": 114,
     "metadata": {},
     "output_type": "execute_result"
    }
   ],
   "source": [
    "has23([4, 3])"
   ]
  },
  {
   "cell_type": "code",
   "execution_count": 115,
   "id": "59554d64",
   "metadata": {},
   "outputs": [
    {
     "data": {
      "text/plain": [
       "False"
      ]
     },
     "execution_count": 115,
     "metadata": {},
     "output_type": "execute_result"
    }
   ],
   "source": [
    "has23([4, 5])"
   ]
  },
  {
   "cell_type": "markdown",
   "id": "314e5561",
   "metadata": {},
   "source": [
    "### 13.no23 "
   ]
  },
  {
   "cell_type": "markdown",
   "id": "20354050",
   "metadata": {},
   "source": [
    "Given an int array length 2, return true if it does not contain a 2 or 3.\n",
    "\n",
    "\n",
    "no23([4, 5]) → true\n",
    "no23([4, 2]) → false\n",
    "no23([3, 5]) → false\n"
   ]
  },
  {
   "cell_type": "code",
   "execution_count": 4,
   "id": "180fedf1",
   "metadata": {},
   "outputs": [],
   "source": [
    "def no23(ls):\n",
    "    return 2 not in ls and 3 not in ls"
   ]
  },
  {
   "cell_type": "code",
   "execution_count": 5,
   "id": "b8b5b136",
   "metadata": {},
   "outputs": [
    {
     "data": {
      "text/plain": [
       "True"
      ]
     },
     "execution_count": 5,
     "metadata": {},
     "output_type": "execute_result"
    }
   ],
   "source": [
    "no23([4, 5])"
   ]
  },
  {
   "cell_type": "code",
   "execution_count": 6,
   "id": "3de49bfd",
   "metadata": {},
   "outputs": [
    {
     "data": {
      "text/plain": [
       "False"
      ]
     },
     "execution_count": 6,
     "metadata": {},
     "output_type": "execute_result"
    }
   ],
   "source": [
    "no23([4, 2])"
   ]
  },
  {
   "cell_type": "code",
   "execution_count": 7,
   "id": "6d1aea5b",
   "metadata": {},
   "outputs": [
    {
     "data": {
      "text/plain": [
       "False"
      ]
     },
     "execution_count": 7,
     "metadata": {},
     "output_type": "execute_result"
    }
   ],
   "source": [
    "no23([3, 5])"
   ]
  },
  {
   "cell_type": "markdown",
   "id": "46d33239",
   "metadata": {},
   "source": [
    "### 14.makeLast"
   ]
  },
  {
   "cell_type": "markdown",
   "id": "10954d88",
   "metadata": {},
   "source": [
    "Given an int array, return a new array with double the length where its last element is the same as the original array, and all the other elements are 0. The original array will be length 1 or more. Note: by default, a new int array contains all 0's.\n",
    "\n",
    "\n",
    "makeLast([4, 5, 6]) → [0, 0, 0, 0, 0, 6]\n",
    "makeLast([1, 2]) → [0, 0, 0, 2]\n",
    "makeLast([3]) → [0, 3]"
   ]
  },
  {
   "cell_type": "code",
   "execution_count": 13,
   "id": "2bfadf59",
   "metadata": {},
   "outputs": [],
   "source": [
    "def makeLast(ls):\n",
    "    l=[ls[-1]]\n",
    "    for i in range((len(ls)*2)-1):\n",
    "        l.insert(0,0)\n",
    "    return l"
   ]
  },
  {
   "cell_type": "code",
   "execution_count": 14,
   "id": "822a7008",
   "metadata": {},
   "outputs": [
    {
     "data": {
      "text/plain": [
       "[0, 0, 0, 0, 0, 6]"
      ]
     },
     "execution_count": 14,
     "metadata": {},
     "output_type": "execute_result"
    }
   ],
   "source": [
    "makeLast([4, 5, 6])"
   ]
  },
  {
   "cell_type": "code",
   "execution_count": 15,
   "id": "6e563e14",
   "metadata": {},
   "outputs": [
    {
     "data": {
      "text/plain": [
       "[0, 0, 0, 2]"
      ]
     },
     "execution_count": 15,
     "metadata": {},
     "output_type": "execute_result"
    }
   ],
   "source": [
    "makeLast([1, 2])"
   ]
  },
  {
   "cell_type": "code",
   "execution_count": 16,
   "id": "1322fc9b",
   "metadata": {},
   "outputs": [
    {
     "data": {
      "text/plain": [
       "[0, 3]"
      ]
     },
     "execution_count": 16,
     "metadata": {},
     "output_type": "execute_result"
    }
   ],
   "source": [
    "makeLast([3])"
   ]
  },
  {
   "cell_type": "markdown",
   "id": "7cfff589",
   "metadata": {},
   "source": [
    "### 15.double23"
   ]
  },
  {
   "cell_type": "markdown",
   "id": "417226dd",
   "metadata": {},
   "source": [
    "Given an int array, return true if the array contains 2 twice, or 3 twice. The array will be length 0, 1, or 2.\n",
    "\n",
    "\n",
    "double23([2, 2]) → true\n",
    "double23([3, 3]) → true\n",
    "double23([2, 3]) → false"
   ]
  },
  {
   "cell_type": "code",
   "execution_count": 1,
   "id": "3627593f",
   "metadata": {},
   "outputs": [],
   "source": [
    "def double23(ls):\n",
    "    count2=0\n",
    "    count3=0\n",
    "    for i in range(len(ls)):\n",
    "        if ls[i]==2:\n",
    "            count2+=1\n",
    "        elif ls[i]==3:\n",
    "            count3+=1\n",
    "    return count2==2 or count3==2"
   ]
  },
  {
   "cell_type": "code",
   "execution_count": 2,
   "id": "0910d205",
   "metadata": {},
   "outputs": [
    {
     "data": {
      "text/plain": [
       "True"
      ]
     },
     "execution_count": 2,
     "metadata": {},
     "output_type": "execute_result"
    }
   ],
   "source": [
    "double23([2, 2]) "
   ]
  },
  {
   "cell_type": "code",
   "execution_count": 3,
   "id": "01873372",
   "metadata": {},
   "outputs": [
    {
     "data": {
      "text/plain": [
       "True"
      ]
     },
     "execution_count": 3,
     "metadata": {},
     "output_type": "execute_result"
    }
   ],
   "source": [
    "double23([3, 3])"
   ]
  },
  {
   "cell_type": "code",
   "execution_count": 4,
   "id": "34a5cdc5",
   "metadata": {},
   "outputs": [
    {
     "data": {
      "text/plain": [
       "False"
      ]
     },
     "execution_count": 4,
     "metadata": {},
     "output_type": "execute_result"
    }
   ],
   "source": [
    "double23([2,3])"
   ]
  },
  {
   "cell_type": "markdown",
   "id": "dd09fc05",
   "metadata": {},
   "source": [
    "### 16.fix23 "
   ]
  },
  {
   "cell_type": "markdown",
   "id": "27c0e596",
   "metadata": {},
   "source": [
    "Given an int array length 3, if there is a 2 in the array immediately followed by a 3, set the 3 element to 0. Return the changed array.\n",
    "\n",
    "\n",
    "fix23([1, 2, 3]) → [1, 2, 0]\n",
    "fix23([2, 3, 5]) → [2, 0, 5]\n",
    "fix23([1, 2, 1]) → [1, 2, 1]"
   ]
  },
  {
   "cell_type": "code",
   "execution_count": 51,
   "id": "2eb2af96",
   "metadata": {},
   "outputs": [],
   "source": [
    "def fix23(ls):\n",
    "    for i in range(len(ls)):\n",
    "        if ls[i]==2 and ls[i+1]==3:\n",
    "            ls[i+1]=0\n",
    "    return ls"
   ]
  },
  {
   "cell_type": "code",
   "execution_count": 52,
   "id": "7483ee42",
   "metadata": {},
   "outputs": [
    {
     "data": {
      "text/plain": [
       "[1, 2, 0]"
      ]
     },
     "execution_count": 52,
     "metadata": {},
     "output_type": "execute_result"
    }
   ],
   "source": [
    "fix23([1, 2, 3])"
   ]
  },
  {
   "cell_type": "code",
   "execution_count": 53,
   "id": "57f9e88a",
   "metadata": {},
   "outputs": [
    {
     "data": {
      "text/plain": [
       "[2, 0, 5]"
      ]
     },
     "execution_count": 53,
     "metadata": {},
     "output_type": "execute_result"
    }
   ],
   "source": [
    "fix23([2, 3, 5])"
   ]
  },
  {
   "cell_type": "code",
   "execution_count": 54,
   "id": "cc4a2d0f",
   "metadata": {},
   "outputs": [
    {
     "data": {
      "text/plain": [
       "[1, 2, 1]"
      ]
     },
     "execution_count": 54,
     "metadata": {},
     "output_type": "execute_result"
    }
   ],
   "source": [
    "fix23([1, 2, 1])"
   ]
  },
  {
   "cell_type": "markdown",
   "id": "dfd44a4c",
   "metadata": {},
   "source": [
    "### 17.start1"
   ]
  },
  {
   "cell_type": "markdown",
   "id": "0574243f",
   "metadata": {},
   "source": [
    "Start with 2 int arrays, a and b, of any length. Return how many of the arrays have 1 as their first element.\n",
    "\n",
    "\n",
    "start1([1, 2, 3], [1, 3]) → 2\n",
    "start1([7, 2, 3], [1]) → 1\n",
    "start1([1, 2], []) → 1"
   ]
  },
  {
   "cell_type": "code",
   "execution_count": 65,
   "id": "aac4046e",
   "metadata": {},
   "outputs": [],
   "source": [
    "def start1(a,b):\n",
    "    count=0\n",
    "    if len(a)>0 and a[0]==1:\n",
    "        count+=1\n",
    "    if len(b)>0 and b[0]==1:\n",
    "        count+=1\n",
    "    return count"
   ]
  },
  {
   "cell_type": "code",
   "execution_count": 66,
   "id": "44091412",
   "metadata": {},
   "outputs": [
    {
     "data": {
      "text/plain": [
       "2"
      ]
     },
     "execution_count": 66,
     "metadata": {},
     "output_type": "execute_result"
    }
   ],
   "source": [
    "start1([1, 2, 3], [1, 3])"
   ]
  },
  {
   "cell_type": "code",
   "execution_count": 67,
   "id": "71e4f110",
   "metadata": {},
   "outputs": [
    {
     "data": {
      "text/plain": [
       "1"
      ]
     },
     "execution_count": 67,
     "metadata": {},
     "output_type": "execute_result"
    }
   ],
   "source": [
    "start1([7, 2, 3], [1])"
   ]
  },
  {
   "cell_type": "code",
   "execution_count": 68,
   "id": "5cdfe330",
   "metadata": {},
   "outputs": [
    {
     "data": {
      "text/plain": [
       "1"
      ]
     },
     "execution_count": 68,
     "metadata": {},
     "output_type": "execute_result"
    }
   ],
   "source": [
    "start1([1, 2], []) "
   ]
  },
  {
   "cell_type": "markdown",
   "id": "d6754267",
   "metadata": {},
   "source": [
    "### 18.biggerTwo"
   ]
  },
  {
   "cell_type": "markdown",
   "id": "8805c9f7",
   "metadata": {},
   "source": [
    "Start with 2 int arrays, a and b, each length 2. Consider the sum of the values in each array. Return the array which has the largest sum. In event of a tie, return a.\n",
    "\n",
    "\n",
    "biggerTwo([1, 2], [3, 4]) → [3, 4]\n",
    "biggerTwo([3, 4], [1, 2]) → [3, 4]\n",
    "biggerTwo([1, 1], [1, 2]) → [1, 2]\n"
   ]
  },
  {
   "cell_type": "code",
   "execution_count": 69,
   "id": "4e930a93",
   "metadata": {},
   "outputs": [],
   "source": [
    "def biggerTwo(a,b):\n",
    "    a1=sum(a)\n",
    "    b1=sum(b)\n",
    "    if a1>b1 or a1==b1:\n",
    "        return a\n",
    "    else:\n",
    "        return b\n",
    "    "
   ]
  },
  {
   "cell_type": "code",
   "execution_count": 70,
   "id": "cb0432df",
   "metadata": {},
   "outputs": [
    {
     "data": {
      "text/plain": [
       "[3, 4]"
      ]
     },
     "execution_count": 70,
     "metadata": {},
     "output_type": "execute_result"
    }
   ],
   "source": [
    "biggerTwo([1, 2], [3, 4]) "
   ]
  },
  {
   "cell_type": "code",
   "execution_count": 73,
   "id": "ac89e8db",
   "metadata": {},
   "outputs": [
    {
     "data": {
      "text/plain": [
       "[3, 4]"
      ]
     },
     "execution_count": 73,
     "metadata": {},
     "output_type": "execute_result"
    }
   ],
   "source": [
    "biggerTwo([3, 4], [5, 2])"
   ]
  },
  {
   "cell_type": "code",
   "execution_count": 72,
   "id": "3204cf05",
   "metadata": {},
   "outputs": [
    {
     "data": {
      "text/plain": [
       "[1, 2]"
      ]
     },
     "execution_count": 72,
     "metadata": {},
     "output_type": "execute_result"
    }
   ],
   "source": [
    "biggerTwo([1, 1], [1, 2]) "
   ]
  },
  {
   "cell_type": "markdown",
   "id": "f844f7e8",
   "metadata": {},
   "source": [
    "### 19.makeMiddle"
   ]
  },
  {
   "cell_type": "markdown",
   "id": "dc13edf9",
   "metadata": {},
   "source": [
    "Given an array of ints of even length, return a new array length 2 containing the middle two elements from the original array. The original array will be length 2 or more.\n",
    "\n",
    "\n",
    "makeMiddle([1, 2, 3, 4]) → [2, 3]\n",
    "makeMiddle([7, 1, 2, 3, 4, 9]) → [2, 3]\n",
    "makeMiddle([1, 2]) → [1, 2]"
   ]
  },
  {
   "cell_type": "code",
   "execution_count": 80,
   "id": "1fbbb075",
   "metadata": {},
   "outputs": [],
   "source": [
    "def makeMiddle(ls):\n",
    "    a=int(len(ls)/2-0.5)\n",
    "    return ls[a:a+2]"
   ]
  },
  {
   "cell_type": "code",
   "execution_count": 81,
   "id": "9d2cabe4",
   "metadata": {},
   "outputs": [
    {
     "data": {
      "text/plain": [
       "[2, 3]"
      ]
     },
     "execution_count": 81,
     "metadata": {},
     "output_type": "execute_result"
    }
   ],
   "source": [
    "makeMiddle([1, 2, 3, 4]) "
   ]
  },
  {
   "cell_type": "code",
   "execution_count": 82,
   "id": "e0d7ace7",
   "metadata": {},
   "outputs": [
    {
     "data": {
      "text/plain": [
       "[2, 3]"
      ]
     },
     "execution_count": 82,
     "metadata": {},
     "output_type": "execute_result"
    }
   ],
   "source": [
    "makeMiddle([7, 1, 2, 3, 4, 9])"
   ]
  },
  {
   "cell_type": "code",
   "execution_count": 83,
   "id": "f6adaee0",
   "metadata": {},
   "outputs": [
    {
     "data": {
      "text/plain": [
       "[1, 2]"
      ]
     },
     "execution_count": 83,
     "metadata": {},
     "output_type": "execute_result"
    }
   ],
   "source": [
    "makeMiddle([1, 2])"
   ]
  },
  {
   "cell_type": "markdown",
   "id": "0be33306",
   "metadata": {},
   "source": [
    "### 20.plusTwo"
   ]
  },
  {
   "cell_type": "markdown",
   "id": "615225a8",
   "metadata": {},
   "source": [
    "Given 2 int arrays, each length 2, return a new array length 4 containing all their elements.\n",
    "\n",
    "\n",
    "plusTwo([1, 2], [3, 4]) → [1, 2, 3, 4]\n",
    "plusTwo([4, 4], [2, 2]) → [4, 4, 2, 2]\n",
    "plusTwo([9, 2], [3, 4]) → [9, 2, 3, 4]"
   ]
  },
  {
   "cell_type": "code",
   "execution_count": 92,
   "id": "28716153",
   "metadata": {},
   "outputs": [],
   "source": [
    "def plusTwo(a,b):\n",
    "    a.extend(b)\n",
    "    print(a)"
   ]
  },
  {
   "cell_type": "code",
   "execution_count": 93,
   "id": "5cb4b004",
   "metadata": {},
   "outputs": [
    {
     "name": "stdout",
     "output_type": "stream",
     "text": [
      "[1, 2, 3, 4]\n"
     ]
    }
   ],
   "source": [
    "plusTwo([1, 2], [3, 4])"
   ]
  },
  {
   "cell_type": "code",
   "execution_count": 94,
   "id": "fffd4d9f",
   "metadata": {},
   "outputs": [
    {
     "name": "stdout",
     "output_type": "stream",
     "text": [
      "[4, 4, 2, 2]\n"
     ]
    }
   ],
   "source": [
    "plusTwo([4, 4], [2, 2])"
   ]
  },
  {
   "cell_type": "code",
   "execution_count": 95,
   "id": "a20dddaf",
   "metadata": {},
   "outputs": [
    {
     "name": "stdout",
     "output_type": "stream",
     "text": [
      "[9, 2, 3, 4]\n"
     ]
    }
   ],
   "source": [
    "plusTwo([9, 2], [3, 4])"
   ]
  },
  {
   "cell_type": "markdown",
   "id": "682e339a",
   "metadata": {},
   "source": [
    "### 21.swapEnds"
   ]
  },
  {
   "cell_type": "markdown",
   "id": "899e38f7",
   "metadata": {},
   "source": [
    "Given an array of ints, swap the first and last elements in the array. Return the modified array. The array length will be at least 1.\n",
    "\n",
    "\n",
    "swapEnds([1, 2, 3, 4]) → [4, 2, 3, 1]\n",
    "swapEnds([1, 2, 3]) → [3, 2, 1]\n",
    "swapEnds([8, 6, 7, 9, 5]) → [5, 6, 7, 9, 8]"
   ]
  },
  {
   "cell_type": "code",
   "execution_count": 96,
   "id": "6c1154ad",
   "metadata": {},
   "outputs": [],
   "source": [
    "def swapEnds(ls):\n",
    "    ls[0],ls[-1]=ls[-1],ls[0]\n",
    "    return ls"
   ]
  },
  {
   "cell_type": "code",
   "execution_count": 97,
   "id": "131f2bcd",
   "metadata": {},
   "outputs": [
    {
     "data": {
      "text/plain": [
       "[4, 2, 3, 1]"
      ]
     },
     "execution_count": 97,
     "metadata": {},
     "output_type": "execute_result"
    }
   ],
   "source": [
    "swapEnds([1, 2, 3, 4]) "
   ]
  },
  {
   "cell_type": "code",
   "execution_count": 98,
   "id": "58a3a8e6",
   "metadata": {},
   "outputs": [
    {
     "data": {
      "text/plain": [
       "[3, 2, 1]"
      ]
     },
     "execution_count": 98,
     "metadata": {},
     "output_type": "execute_result"
    }
   ],
   "source": [
    "swapEnds([1, 2, 3]) "
   ]
  },
  {
   "cell_type": "code",
   "execution_count": 99,
   "id": "261cec6e",
   "metadata": {},
   "outputs": [
    {
     "data": {
      "text/plain": [
       "[5, 6, 7, 9, 8]"
      ]
     },
     "execution_count": 99,
     "metadata": {},
     "output_type": "execute_result"
    }
   ],
   "source": [
    "swapEnds([8, 6, 7, 9, 5])"
   ]
  },
  {
   "cell_type": "markdown",
   "id": "4464832a",
   "metadata": {},
   "source": [
    "### 22.midThree"
   ]
  },
  {
   "cell_type": "markdown",
   "id": "b11e7b25",
   "metadata": {},
   "source": [
    "Given an array of ints of odd length, return a new array length 3 containing the elements from the middle of the array. The array length will be at least 3.\n",
    "\n",
    "\n",
    "midThree([1, 2, 3, 4, 5]) → [2, 3, 4]\n",
    "midThree([8, 6, 7, 5, 3, 0, 9]) → [7, 5, 3]\n",
    "midThree([1, 2, 3]) → [1, 2, 3]"
   ]
  },
  {
   "cell_type": "code",
   "execution_count": 101,
   "id": "fa63987d",
   "metadata": {},
   "outputs": [],
   "source": [
    "def midThree(ls):\n",
    "    a=int(len(ls)/2)\n",
    "    return ls[a-1:a+2]"
   ]
  },
  {
   "cell_type": "code",
   "execution_count": 102,
   "id": "0b76e80f",
   "metadata": {},
   "outputs": [
    {
     "data": {
      "text/plain": [
       "[2, 3, 4]"
      ]
     },
     "execution_count": 102,
     "metadata": {},
     "output_type": "execute_result"
    }
   ],
   "source": [
    "midThree([1, 2, 3, 4, 5])"
   ]
  },
  {
   "cell_type": "code",
   "execution_count": 103,
   "id": "6843a14c",
   "metadata": {},
   "outputs": [
    {
     "data": {
      "text/plain": [
       "[7, 5, 3]"
      ]
     },
     "execution_count": 103,
     "metadata": {},
     "output_type": "execute_result"
    }
   ],
   "source": [
    "midThree([8, 6, 7, 5, 3, 0, 9])"
   ]
  },
  {
   "cell_type": "code",
   "execution_count": 104,
   "id": "b1386daf",
   "metadata": {},
   "outputs": [
    {
     "data": {
      "text/plain": [
       "[1, 2, 3]"
      ]
     },
     "execution_count": 104,
     "metadata": {},
     "output_type": "execute_result"
    }
   ],
   "source": [
    "midThree([1, 2, 3])"
   ]
  },
  {
   "cell_type": "markdown",
   "id": "9a163fd9",
   "metadata": {},
   "source": [
    "### 23.maxTriple"
   ]
  },
  {
   "cell_type": "markdown",
   "id": "ef293fc0",
   "metadata": {},
   "source": [
    "Given an array of ints of odd length, look at the first, last, and middle values in the array and return the largest. The array length will be a least 1.\n",
    "\n",
    "\n",
    "maxTriple([1, 2, 3]) → 3\n",
    "maxTriple([1, 5, 3]) → 5\n",
    "maxTriple([5, 2, 3]) → 5"
   ]
  },
  {
   "cell_type": "code",
   "execution_count": 109,
   "id": "3ab1048d",
   "metadata": {},
   "outputs": [],
   "source": [
    "def maxTriple(ls):\n",
    "    a=int(len(ls)/2)\n",
    "    return max(ls[0],ls[a],ls[-1])"
   ]
  },
  {
   "cell_type": "code",
   "execution_count": 110,
   "id": "49c79da1",
   "metadata": {},
   "outputs": [
    {
     "data": {
      "text/plain": [
       "3"
      ]
     },
     "execution_count": 110,
     "metadata": {},
     "output_type": "execute_result"
    }
   ],
   "source": [
    "maxTriple([1, 2, 3])"
   ]
  },
  {
   "cell_type": "code",
   "execution_count": 111,
   "id": "2bfd0202",
   "metadata": {},
   "outputs": [
    {
     "data": {
      "text/plain": [
       "5"
      ]
     },
     "execution_count": 111,
     "metadata": {},
     "output_type": "execute_result"
    }
   ],
   "source": [
    "maxTriple([1, 5, 3])"
   ]
  },
  {
   "cell_type": "code",
   "execution_count": 112,
   "id": "3f45b541",
   "metadata": {},
   "outputs": [
    {
     "data": {
      "text/plain": [
       "5"
      ]
     },
     "execution_count": 112,
     "metadata": {},
     "output_type": "execute_result"
    }
   ],
   "source": [
    "maxTriple([5, 2, 3])"
   ]
  },
  {
   "cell_type": "markdown",
   "id": "bdfcd035",
   "metadata": {},
   "source": [
    "### 24.frontPiece"
   ]
  },
  {
   "cell_type": "markdown",
   "id": "77a38ced",
   "metadata": {},
   "source": [
    "Given an int array of any length, return a new array of its first 2 elements. If the array is smaller than length 2, use whatever elements are present.\n",
    "\n",
    "\n",
    "frontPiece([1, 2, 3]) → [1, 2]\n",
    "frontPiece([1, 2]) → [1, 2]\n",
    "frontPiece([1]) → [1]"
   ]
  },
  {
   "cell_type": "code",
   "execution_count": 113,
   "id": "8e49a8f6",
   "metadata": {},
   "outputs": [],
   "source": [
    "def frontPiece(ls):\n",
    "    if len(ls)>=2:\n",
    "        return ls[:2]\n",
    "    else:return ls"
   ]
  },
  {
   "cell_type": "code",
   "execution_count": 114,
   "id": "ec011724",
   "metadata": {},
   "outputs": [
    {
     "data": {
      "text/plain": [
       "[1, 2]"
      ]
     },
     "execution_count": 114,
     "metadata": {},
     "output_type": "execute_result"
    }
   ],
   "source": [
    "frontPiece([1, 2, 3])"
   ]
  },
  {
   "cell_type": "code",
   "execution_count": 115,
   "id": "6b8c1588",
   "metadata": {},
   "outputs": [
    {
     "data": {
      "text/plain": [
       "[1, 2]"
      ]
     },
     "execution_count": 115,
     "metadata": {},
     "output_type": "execute_result"
    }
   ],
   "source": [
    "frontPiece([1, 2])"
   ]
  },
  {
   "cell_type": "code",
   "execution_count": 116,
   "id": "c23d31f8",
   "metadata": {},
   "outputs": [
    {
     "data": {
      "text/plain": [
       "[1]"
      ]
     },
     "execution_count": 116,
     "metadata": {},
     "output_type": "execute_result"
    }
   ],
   "source": [
    "frontPiece([1])"
   ]
  },
  {
   "cell_type": "markdown",
   "id": "8ad7a222",
   "metadata": {},
   "source": [
    "### 25.unlucky1"
   ]
  },
  {
   "cell_type": "markdown",
   "id": "647a8bdb",
   "metadata": {},
   "source": [
    "We'll say that a 1 immediately followed by a 3 in an array is an \"unlucky\" 1. Return true if the given array contains an unlucky 1 in the first 2 or last 2 positions in the array.\n",
    "\n",
    "\n",
    "unlucky1([1, 3, 4, 5]) → true\n",
    "unlucky1([2, 1, 3, 4, 5]) → true\n",
    "unlucky1([1, 1, 1]) → false"
   ]
  },
  {
   "cell_type": "code",
   "execution_count": 117,
   "id": "70c0608a",
   "metadata": {},
   "outputs": [],
   "source": [
    "def unlucky1(ls):\n",
    "    return ls[0]==1 and ls[1]==3 or ls[-1]==3 and ls[-2]==1"
   ]
  },
  {
   "cell_type": "code",
   "execution_count": 118,
   "id": "0e8f95b2",
   "metadata": {},
   "outputs": [
    {
     "data": {
      "text/plain": [
       "True"
      ]
     },
     "execution_count": 118,
     "metadata": {},
     "output_type": "execute_result"
    }
   ],
   "source": [
    "unlucky1([1, 3, 4, 5])"
   ]
  },
  {
   "cell_type": "code",
   "execution_count": 119,
   "id": "524d2a26",
   "metadata": {},
   "outputs": [
    {
     "data": {
      "text/plain": [
       "False"
      ]
     },
     "execution_count": 119,
     "metadata": {},
     "output_type": "execute_result"
    }
   ],
   "source": [
    "unlucky1([2, 1, 3, 4, 5])"
   ]
  },
  {
   "cell_type": "code",
   "execution_count": 120,
   "id": "6394ca7d",
   "metadata": {},
   "outputs": [
    {
     "data": {
      "text/plain": [
       "False"
      ]
     },
     "execution_count": 120,
     "metadata": {},
     "output_type": "execute_result"
    }
   ],
   "source": [
    "unlucky1([1, 1, 1])"
   ]
  },
  {
   "cell_type": "markdown",
   "id": "13f7155f",
   "metadata": {},
   "source": [
    "### 26.make2"
   ]
  },
  {
   "cell_type": "markdown",
   "id": "a07f43f8",
   "metadata": {},
   "source": [
    "Given 2 int arrays, a and b, return a new array length 2 containing, as much as will fit, the elements from a followed by the elements from b. The arrays may be any length, including 0, but there will be 2 or more elements available between the 2 arrays.\n",
    "\n",
    "\n",
    "make2([4, 5], [1, 2, 3]) → [4, 5]\n",
    "make2([4], [1, 2, 3]) → [4, 1]\n",
    "make2([], [1, 2]) → [1, 2]"
   ]
  },
  {
   "cell_type": "code",
   "execution_count": 40,
   "id": "4ef13938",
   "metadata": {},
   "outputs": [],
   "source": [
    "def make2(a,b):\n",
    "    if len(a)>=2:\n",
    "        return a\n",
    "    elif len(a)==1:\n",
    "        a.append(b[0])\n",
    "        return a\n",
    "    elif len(a)==0:\n",
    "        return b[0:2]"
   ]
  },
  {
   "cell_type": "code",
   "execution_count": 41,
   "id": "eb9573d8",
   "metadata": {},
   "outputs": [
    {
     "data": {
      "text/plain": [
       "[4, 5]"
      ]
     },
     "execution_count": 41,
     "metadata": {},
     "output_type": "execute_result"
    }
   ],
   "source": [
    "make2([4, 5], [1, 2, 3])"
   ]
  },
  {
   "cell_type": "code",
   "execution_count": 42,
   "id": "42a2f5a1",
   "metadata": {},
   "outputs": [
    {
     "data": {
      "text/plain": [
       "[4, 1]"
      ]
     },
     "execution_count": 42,
     "metadata": {},
     "output_type": "execute_result"
    }
   ],
   "source": [
    "make2([4], [1, 2, 3])"
   ]
  },
  {
   "cell_type": "code",
   "execution_count": 43,
   "id": "3ab20b1e",
   "metadata": {},
   "outputs": [
    {
     "data": {
      "text/plain": [
       "[1, 2]"
      ]
     },
     "execution_count": 43,
     "metadata": {},
     "output_type": "execute_result"
    }
   ],
   "source": [
    " make2([], [1, 2])"
   ]
  }
 ],
 "metadata": {
  "kernelspec": {
   "display_name": "Python 3 (ipykernel)",
   "language": "python",
   "name": "python3"
  },
  "language_info": {
   "codemirror_mode": {
    "name": "ipython",
    "version": 3
   },
   "file_extension": ".py",
   "mimetype": "text/x-python",
   "name": "python",
   "nbconvert_exporter": "python",
   "pygments_lexer": "ipython3",
   "version": "3.7.11"
  }
 },
 "nbformat": 4,
 "nbformat_minor": 5
}
